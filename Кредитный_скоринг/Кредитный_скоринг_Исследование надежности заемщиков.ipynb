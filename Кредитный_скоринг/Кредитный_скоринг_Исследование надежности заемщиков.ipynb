{
 "cells": [
  {
   "cell_type": "markdown",
   "id": "2de8a43d",
   "metadata": {
    "deletable": false,
    "editable": false,
    "id": "c81daeeb"
   },
   "source": [
    "# Исследование надежности заемщиков\n"
   ]
  },
  {
   "cell_type": "markdown",
   "id": "a6fe9705",
   "metadata": {
    "deletable": false,
    "editable": false,
    "id": "744d7639"
   },
   "source": [
    "## Откройте таблицу и изучите общую информацию о данных"
   ]
  },
  {
   "cell_type": "markdown",
   "id": "4377072b",
   "metadata": {
    "deletable": false,
    "editable": false,
    "id": "e7a14c31"
   },
   "source": [
    "**Задание 1. Импортируйте библиотеку pandas. Считайте данные из csv-файла в датафрейм и сохраните в переменную `data`. Путь к файлу:**\n",
    "\n",
    "`/datasets/data.csv`"
   ]
  },
  {
   "cell_type": "code",
   "execution_count": 2,
   "id": "a54129cc",
   "metadata": {
    "deletable": false,
    "id": "7bcf75c9"
   },
   "outputs": [],
   "source": [
    "import pandas as pd\n",
    "import seaborn as sns\n",
    "\n",
    "try:\n",
    "    data = pd.read_csv('/datasets/data.csv')\n",
    "except:\n",
    "    data = pd.read_csv('https://code.s3.yandex.net/datasets/data.csv')"
   ]
  },
  {
   "cell_type": "markdown",
   "id": "74edd3b0",
   "metadata": {
    "deletable": false,
    "editable": false,
    "id": "b8038fe3"
   },
   "source": [
    "**Задание 2. Выведите первые 20 строчек датафрейма `data` на экран.**"
   ]
  },
  {
   "cell_type": "code",
   "execution_count": 3,
   "id": "5c53e251",
   "metadata": {
    "deletable": false,
    "id": "2a7cab99",
    "outputId": "1a8f3ef2-d323-4ec2-ddf7-89670b5944c4"
   },
   "outputs": [
    {
     "data": {
      "text/html": [
       "<div>\n",
       "<style scoped>\n",
       "    .dataframe tbody tr th:only-of-type {\n",
       "        vertical-align: middle;\n",
       "    }\n",
       "\n",
       "    .dataframe tbody tr th {\n",
       "        vertical-align: top;\n",
       "    }\n",
       "\n",
       "    .dataframe thead th {\n",
       "        text-align: right;\n",
       "    }\n",
       "</style>\n",
       "<table border=\"1\" class=\"dataframe\">\n",
       "  <thead>\n",
       "    <tr style=\"text-align: right;\">\n",
       "      <th></th>\n",
       "      <th>children</th>\n",
       "      <th>days_employed</th>\n",
       "      <th>dob_years</th>\n",
       "      <th>education</th>\n",
       "      <th>education_id</th>\n",
       "      <th>family_status</th>\n",
       "      <th>family_status_id</th>\n",
       "      <th>gender</th>\n",
       "      <th>income_type</th>\n",
       "      <th>debt</th>\n",
       "      <th>total_income</th>\n",
       "      <th>purpose</th>\n",
       "    </tr>\n",
       "  </thead>\n",
       "  <tbody>\n",
       "    <tr>\n",
       "      <th>0</th>\n",
       "      <td>1</td>\n",
       "      <td>-8437.673028</td>\n",
       "      <td>42</td>\n",
       "      <td>высшее</td>\n",
       "      <td>0</td>\n",
       "      <td>женат / замужем</td>\n",
       "      <td>0</td>\n",
       "      <td>F</td>\n",
       "      <td>сотрудник</td>\n",
       "      <td>0</td>\n",
       "      <td>253875.639453</td>\n",
       "      <td>покупка жилья</td>\n",
       "    </tr>\n",
       "    <tr>\n",
       "      <th>1</th>\n",
       "      <td>1</td>\n",
       "      <td>-4024.803754</td>\n",
       "      <td>36</td>\n",
       "      <td>среднее</td>\n",
       "      <td>1</td>\n",
       "      <td>женат / замужем</td>\n",
       "      <td>0</td>\n",
       "      <td>F</td>\n",
       "      <td>сотрудник</td>\n",
       "      <td>0</td>\n",
       "      <td>112080.014102</td>\n",
       "      <td>приобретение автомобиля</td>\n",
       "    </tr>\n",
       "    <tr>\n",
       "      <th>2</th>\n",
       "      <td>0</td>\n",
       "      <td>-5623.422610</td>\n",
       "      <td>33</td>\n",
       "      <td>Среднее</td>\n",
       "      <td>1</td>\n",
       "      <td>женат / замужем</td>\n",
       "      <td>0</td>\n",
       "      <td>M</td>\n",
       "      <td>сотрудник</td>\n",
       "      <td>0</td>\n",
       "      <td>145885.952297</td>\n",
       "      <td>покупка жилья</td>\n",
       "    </tr>\n",
       "    <tr>\n",
       "      <th>3</th>\n",
       "      <td>3</td>\n",
       "      <td>-4124.747207</td>\n",
       "      <td>32</td>\n",
       "      <td>среднее</td>\n",
       "      <td>1</td>\n",
       "      <td>женат / замужем</td>\n",
       "      <td>0</td>\n",
       "      <td>M</td>\n",
       "      <td>сотрудник</td>\n",
       "      <td>0</td>\n",
       "      <td>267628.550329</td>\n",
       "      <td>дополнительное образование</td>\n",
       "    </tr>\n",
       "    <tr>\n",
       "      <th>4</th>\n",
       "      <td>0</td>\n",
       "      <td>340266.072047</td>\n",
       "      <td>53</td>\n",
       "      <td>среднее</td>\n",
       "      <td>1</td>\n",
       "      <td>гражданский брак</td>\n",
       "      <td>1</td>\n",
       "      <td>F</td>\n",
       "      <td>пенсионер</td>\n",
       "      <td>0</td>\n",
       "      <td>158616.077870</td>\n",
       "      <td>сыграть свадьбу</td>\n",
       "    </tr>\n",
       "    <tr>\n",
       "      <th>5</th>\n",
       "      <td>0</td>\n",
       "      <td>-926.185831</td>\n",
       "      <td>27</td>\n",
       "      <td>высшее</td>\n",
       "      <td>0</td>\n",
       "      <td>гражданский брак</td>\n",
       "      <td>1</td>\n",
       "      <td>M</td>\n",
       "      <td>компаньон</td>\n",
       "      <td>0</td>\n",
       "      <td>255763.565419</td>\n",
       "      <td>покупка жилья</td>\n",
       "    </tr>\n",
       "    <tr>\n",
       "      <th>6</th>\n",
       "      <td>0</td>\n",
       "      <td>-2879.202052</td>\n",
       "      <td>43</td>\n",
       "      <td>высшее</td>\n",
       "      <td>0</td>\n",
       "      <td>женат / замужем</td>\n",
       "      <td>0</td>\n",
       "      <td>F</td>\n",
       "      <td>компаньон</td>\n",
       "      <td>0</td>\n",
       "      <td>240525.971920</td>\n",
       "      <td>операции с жильем</td>\n",
       "    </tr>\n",
       "    <tr>\n",
       "      <th>7</th>\n",
       "      <td>0</td>\n",
       "      <td>-152.779569</td>\n",
       "      <td>50</td>\n",
       "      <td>СРЕДНЕЕ</td>\n",
       "      <td>1</td>\n",
       "      <td>женат / замужем</td>\n",
       "      <td>0</td>\n",
       "      <td>M</td>\n",
       "      <td>сотрудник</td>\n",
       "      <td>0</td>\n",
       "      <td>135823.934197</td>\n",
       "      <td>образование</td>\n",
       "    </tr>\n",
       "    <tr>\n",
       "      <th>8</th>\n",
       "      <td>2</td>\n",
       "      <td>-6929.865299</td>\n",
       "      <td>35</td>\n",
       "      <td>ВЫСШЕЕ</td>\n",
       "      <td>0</td>\n",
       "      <td>гражданский брак</td>\n",
       "      <td>1</td>\n",
       "      <td>F</td>\n",
       "      <td>сотрудник</td>\n",
       "      <td>0</td>\n",
       "      <td>95856.832424</td>\n",
       "      <td>на проведение свадьбы</td>\n",
       "    </tr>\n",
       "    <tr>\n",
       "      <th>9</th>\n",
       "      <td>0</td>\n",
       "      <td>-2188.756445</td>\n",
       "      <td>41</td>\n",
       "      <td>среднее</td>\n",
       "      <td>1</td>\n",
       "      <td>женат / замужем</td>\n",
       "      <td>0</td>\n",
       "      <td>M</td>\n",
       "      <td>сотрудник</td>\n",
       "      <td>0</td>\n",
       "      <td>144425.938277</td>\n",
       "      <td>покупка жилья для семьи</td>\n",
       "    </tr>\n",
       "    <tr>\n",
       "      <th>10</th>\n",
       "      <td>2</td>\n",
       "      <td>-4171.483647</td>\n",
       "      <td>36</td>\n",
       "      <td>высшее</td>\n",
       "      <td>0</td>\n",
       "      <td>женат / замужем</td>\n",
       "      <td>0</td>\n",
       "      <td>M</td>\n",
       "      <td>компаньон</td>\n",
       "      <td>0</td>\n",
       "      <td>113943.491460</td>\n",
       "      <td>покупка недвижимости</td>\n",
       "    </tr>\n",
       "    <tr>\n",
       "      <th>11</th>\n",
       "      <td>0</td>\n",
       "      <td>-792.701887</td>\n",
       "      <td>40</td>\n",
       "      <td>среднее</td>\n",
       "      <td>1</td>\n",
       "      <td>женат / замужем</td>\n",
       "      <td>0</td>\n",
       "      <td>F</td>\n",
       "      <td>сотрудник</td>\n",
       "      <td>0</td>\n",
       "      <td>77069.234271</td>\n",
       "      <td>покупка коммерческой недвижимости</td>\n",
       "    </tr>\n",
       "    <tr>\n",
       "      <th>12</th>\n",
       "      <td>0</td>\n",
       "      <td>NaN</td>\n",
       "      <td>65</td>\n",
       "      <td>среднее</td>\n",
       "      <td>1</td>\n",
       "      <td>гражданский брак</td>\n",
       "      <td>1</td>\n",
       "      <td>M</td>\n",
       "      <td>пенсионер</td>\n",
       "      <td>0</td>\n",
       "      <td>NaN</td>\n",
       "      <td>сыграть свадьбу</td>\n",
       "    </tr>\n",
       "    <tr>\n",
       "      <th>13</th>\n",
       "      <td>0</td>\n",
       "      <td>-1846.641941</td>\n",
       "      <td>54</td>\n",
       "      <td>неоконченное высшее</td>\n",
       "      <td>2</td>\n",
       "      <td>женат / замужем</td>\n",
       "      <td>0</td>\n",
       "      <td>F</td>\n",
       "      <td>сотрудник</td>\n",
       "      <td>0</td>\n",
       "      <td>130458.228857</td>\n",
       "      <td>приобретение автомобиля</td>\n",
       "    </tr>\n",
       "    <tr>\n",
       "      <th>14</th>\n",
       "      <td>0</td>\n",
       "      <td>-1844.956182</td>\n",
       "      <td>56</td>\n",
       "      <td>высшее</td>\n",
       "      <td>0</td>\n",
       "      <td>гражданский брак</td>\n",
       "      <td>1</td>\n",
       "      <td>F</td>\n",
       "      <td>компаньон</td>\n",
       "      <td>1</td>\n",
       "      <td>165127.911772</td>\n",
       "      <td>покупка жилой недвижимости</td>\n",
       "    </tr>\n",
       "    <tr>\n",
       "      <th>15</th>\n",
       "      <td>1</td>\n",
       "      <td>-972.364419</td>\n",
       "      <td>26</td>\n",
       "      <td>среднее</td>\n",
       "      <td>1</td>\n",
       "      <td>женат / замужем</td>\n",
       "      <td>0</td>\n",
       "      <td>F</td>\n",
       "      <td>сотрудник</td>\n",
       "      <td>0</td>\n",
       "      <td>116820.904450</td>\n",
       "      <td>строительство собственной недвижимости</td>\n",
       "    </tr>\n",
       "    <tr>\n",
       "      <th>16</th>\n",
       "      <td>0</td>\n",
       "      <td>-1719.934226</td>\n",
       "      <td>35</td>\n",
       "      <td>среднее</td>\n",
       "      <td>1</td>\n",
       "      <td>женат / замужем</td>\n",
       "      <td>0</td>\n",
       "      <td>F</td>\n",
       "      <td>сотрудник</td>\n",
       "      <td>0</td>\n",
       "      <td>289202.704229</td>\n",
       "      <td>недвижимость</td>\n",
       "    </tr>\n",
       "    <tr>\n",
       "      <th>17</th>\n",
       "      <td>0</td>\n",
       "      <td>-2369.999720</td>\n",
       "      <td>33</td>\n",
       "      <td>высшее</td>\n",
       "      <td>0</td>\n",
       "      <td>гражданский брак</td>\n",
       "      <td>1</td>\n",
       "      <td>M</td>\n",
       "      <td>сотрудник</td>\n",
       "      <td>0</td>\n",
       "      <td>90410.586745</td>\n",
       "      <td>строительство недвижимости</td>\n",
       "    </tr>\n",
       "    <tr>\n",
       "      <th>18</th>\n",
       "      <td>0</td>\n",
       "      <td>400281.136913</td>\n",
       "      <td>53</td>\n",
       "      <td>среднее</td>\n",
       "      <td>1</td>\n",
       "      <td>вдовец / вдова</td>\n",
       "      <td>2</td>\n",
       "      <td>F</td>\n",
       "      <td>пенсионер</td>\n",
       "      <td>0</td>\n",
       "      <td>56823.777243</td>\n",
       "      <td>на покупку подержанного автомобиля</td>\n",
       "    </tr>\n",
       "    <tr>\n",
       "      <th>19</th>\n",
       "      <td>0</td>\n",
       "      <td>-10038.818549</td>\n",
       "      <td>48</td>\n",
       "      <td>СРЕДНЕЕ</td>\n",
       "      <td>1</td>\n",
       "      <td>в разводе</td>\n",
       "      <td>3</td>\n",
       "      <td>F</td>\n",
       "      <td>сотрудник</td>\n",
       "      <td>0</td>\n",
       "      <td>242831.107982</td>\n",
       "      <td>на покупку своего автомобиля</td>\n",
       "    </tr>\n",
       "  </tbody>\n",
       "</table>\n",
       "</div>"
      ],
      "text/plain": [
       "    children  days_employed  dob_years            education  education_id  \\\n",
       "0          1   -8437.673028         42               высшее             0   \n",
       "1          1   -4024.803754         36              среднее             1   \n",
       "2          0   -5623.422610         33              Среднее             1   \n",
       "3          3   -4124.747207         32              среднее             1   \n",
       "4          0  340266.072047         53              среднее             1   \n",
       "5          0    -926.185831         27               высшее             0   \n",
       "6          0   -2879.202052         43               высшее             0   \n",
       "7          0    -152.779569         50              СРЕДНЕЕ             1   \n",
       "8          2   -6929.865299         35               ВЫСШЕЕ             0   \n",
       "9          0   -2188.756445         41              среднее             1   \n",
       "10         2   -4171.483647         36               высшее             0   \n",
       "11         0    -792.701887         40              среднее             1   \n",
       "12         0            NaN         65              среднее             1   \n",
       "13         0   -1846.641941         54  неоконченное высшее             2   \n",
       "14         0   -1844.956182         56               высшее             0   \n",
       "15         1    -972.364419         26              среднее             1   \n",
       "16         0   -1719.934226         35              среднее             1   \n",
       "17         0   -2369.999720         33               высшее             0   \n",
       "18         0  400281.136913         53              среднее             1   \n",
       "19         0  -10038.818549         48              СРЕДНЕЕ             1   \n",
       "\n",
       "       family_status  family_status_id gender income_type  debt  \\\n",
       "0    женат / замужем                 0      F   сотрудник     0   \n",
       "1    женат / замужем                 0      F   сотрудник     0   \n",
       "2    женат / замужем                 0      M   сотрудник     0   \n",
       "3    женат / замужем                 0      M   сотрудник     0   \n",
       "4   гражданский брак                 1      F   пенсионер     0   \n",
       "5   гражданский брак                 1      M   компаньон     0   \n",
       "6    женат / замужем                 0      F   компаньон     0   \n",
       "7    женат / замужем                 0      M   сотрудник     0   \n",
       "8   гражданский брак                 1      F   сотрудник     0   \n",
       "9    женат / замужем                 0      M   сотрудник     0   \n",
       "10   женат / замужем                 0      M   компаньон     0   \n",
       "11   женат / замужем                 0      F   сотрудник     0   \n",
       "12  гражданский брак                 1      M   пенсионер     0   \n",
       "13   женат / замужем                 0      F   сотрудник     0   \n",
       "14  гражданский брак                 1      F   компаньон     1   \n",
       "15   женат / замужем                 0      F   сотрудник     0   \n",
       "16   женат / замужем                 0      F   сотрудник     0   \n",
       "17  гражданский брак                 1      M   сотрудник     0   \n",
       "18    вдовец / вдова                 2      F   пенсионер     0   \n",
       "19         в разводе                 3      F   сотрудник     0   \n",
       "\n",
       "     total_income                                 purpose  \n",
       "0   253875.639453                           покупка жилья  \n",
       "1   112080.014102                 приобретение автомобиля  \n",
       "2   145885.952297                           покупка жилья  \n",
       "3   267628.550329              дополнительное образование  \n",
       "4   158616.077870                         сыграть свадьбу  \n",
       "5   255763.565419                           покупка жилья  \n",
       "6   240525.971920                       операции с жильем  \n",
       "7   135823.934197                             образование  \n",
       "8    95856.832424                   на проведение свадьбы  \n",
       "9   144425.938277                 покупка жилья для семьи  \n",
       "10  113943.491460                    покупка недвижимости  \n",
       "11   77069.234271       покупка коммерческой недвижимости  \n",
       "12            NaN                         сыграть свадьбу  \n",
       "13  130458.228857                 приобретение автомобиля  \n",
       "14  165127.911772              покупка жилой недвижимости  \n",
       "15  116820.904450  строительство собственной недвижимости  \n",
       "16  289202.704229                            недвижимость  \n",
       "17   90410.586745              строительство недвижимости  \n",
       "18   56823.777243      на покупку подержанного автомобиля  \n",
       "19  242831.107982            на покупку своего автомобиля  "
      ]
     },
     "execution_count": 3,
     "metadata": {},
     "output_type": "execute_result"
    }
   ],
   "source": [
    "data.head(20)"
   ]
  },
  {
   "cell_type": "markdown",
   "id": "7510f7f5",
   "metadata": {
    "deletable": false,
    "editable": false,
    "id": "1c12e233"
   },
   "source": [
    "**Задание 3. Выведите основную информацию о датафрейме с помощью метода `info()`.**"
   ]
  },
  {
   "cell_type": "code",
   "execution_count": 4,
   "id": "a5b55354",
   "metadata": {
    "deletable": false,
    "id": "2b757bca",
    "outputId": "15376089-8dad-46c9-b520-c05248d43158"
   },
   "outputs": [
    {
     "name": "stdout",
     "output_type": "stream",
     "text": [
      "<class 'pandas.core.frame.DataFrame'>\n",
      "RangeIndex: 21525 entries, 0 to 21524\n",
      "Data columns (total 12 columns):\n",
      " #   Column            Non-Null Count  Dtype  \n",
      "---  ------            --------------  -----  \n",
      " 0   children          21525 non-null  int64  \n",
      " 1   days_employed     19351 non-null  float64\n",
      " 2   dob_years         21525 non-null  int64  \n",
      " 3   education         21525 non-null  object \n",
      " 4   education_id      21525 non-null  int64  \n",
      " 5   family_status     21525 non-null  object \n",
      " 6   family_status_id  21525 non-null  int64  \n",
      " 7   gender            21525 non-null  object \n",
      " 8   income_type       21525 non-null  object \n",
      " 9   debt              21525 non-null  int64  \n",
      " 10  total_income      19351 non-null  float64\n",
      " 11  purpose           21525 non-null  object \n",
      "dtypes: float64(2), int64(5), object(5)\n",
      "memory usage: 2.0+ MB\n"
     ]
    }
   ],
   "source": [
    "data.info()"
   ]
  },
  {
   "cell_type": "markdown",
   "id": "92108144",
   "metadata": {
    "deletable": false,
    "editable": false,
    "id": "333ec665"
   },
   "source": [
    "## Предобработка данных"
   ]
  },
  {
   "cell_type": "markdown",
   "id": "091460ab",
   "metadata": {
    "deletable": false,
    "editable": false,
    "id": "02d92d53"
   },
   "source": [
    "### Удаление пропусков"
   ]
  },
  {
   "cell_type": "markdown",
   "id": "a47460cd",
   "metadata": {
    "deletable": false,
    "editable": false,
    "id": "cd84967c"
   },
   "source": [
    "**Задание 4. Выведите количество пропущенных значений для каждого столбца. Используйте комбинацию двух методов.**"
   ]
  },
  {
   "cell_type": "code",
   "execution_count": 5,
   "id": "11e0d7df",
   "metadata": {
    "deletable": false,
    "id": "7f9b2309",
    "outputId": "81f4d817-781c-465c-ed15-91ce4446810d"
   },
   "outputs": [
    {
     "data": {
      "text/plain": [
       "children               0\n",
       "days_employed       2174\n",
       "dob_years              0\n",
       "education              0\n",
       "education_id           0\n",
       "family_status          0\n",
       "family_status_id       0\n",
       "gender                 0\n",
       "income_type            0\n",
       "debt                   0\n",
       "total_income        2174\n",
       "purpose                0\n",
       "dtype: int64"
      ]
     },
     "execution_count": 5,
     "metadata": {},
     "output_type": "execute_result"
    }
   ],
   "source": [
    "data.isna().sum()"
   ]
  },
  {
   "cell_type": "markdown",
   "id": "0a0efef8",
   "metadata": {
    "deletable": false,
    "editable": false,
    "id": "db86e27b"
   },
   "source": [
    "**Задание 5. В двух столбцах есть пропущенные значения. Один из них — `days_employed`. Пропуски в этом столбце вы обработаете на следующем этапе. Другой столбец с пропущенными значениями — `total_income` — хранит данные о доходах. На сумму дохода сильнее всего влияет тип занятости, поэтому заполнить пропуски в этом столбце нужно медианным значением по каждому типу из столбца `income_type`. Например, у человека с типом занятости `сотрудник` пропуск в столбце `total_income` должен быть заполнен медианным доходом среди всех записей с тем же типом.**"
   ]
  },
  {
   "cell_type": "code",
   "execution_count": 6,
   "id": "1e2d8867",
   "metadata": {
    "deletable": false,
    "id": "42006a93"
   },
   "outputs": [],
   "source": [
    "for t in data['income_type'].unique():\n",
    "    data.loc[(data['income_type'] == t) & (data['total_income'].isna()), 'total_income'] = \\\n",
    "    data.loc[(data['income_type'] == t), 'total_income'].median()"
   ]
  },
  {
   "cell_type": "markdown",
   "id": "a11ac324",
   "metadata": {
    "deletable": false,
    "editable": false,
    "id": "89da5ece"
   },
   "source": [
    "### Обработка аномальных значений"
   ]
  },
  {
   "cell_type": "markdown",
   "id": "d6367ec6",
   "metadata": {
    "deletable": false,
    "editable": false,
    "id": "57964554"
   },
   "source": [
    "**Задание 6. В данных могут встречаться артефакты (аномалии) — значения, которые не отражают действительность и появились по какой-то ошибке. таким артефактом будет отрицательное количество дней трудового стажа в столбце `days_employed`. Для реальных данных это нормально. Обработайте значения в этом столбце: замените все отрицательные значения положительными с помощью метода `abs()`.**"
   ]
  },
  {
   "cell_type": "code",
   "execution_count": 7,
   "id": "b4248cd2",
   "metadata": {
    "deletable": false,
    "id": "f6f055bf"
   },
   "outputs": [],
   "source": [
    "data['days_employed'] = data['days_employed'].abs()"
   ]
  },
  {
   "cell_type": "markdown",
   "id": "0e39897f",
   "metadata": {
    "deletable": false,
    "editable": false,
    "id": "6107dd2f"
   },
   "source": [
    "**Задание 7. Для каждого типа занятости выведите медианное значение трудового стажа `days_employed` в днях.**"
   ]
  },
  {
   "cell_type": "code",
   "execution_count": 8,
   "id": "9559d6d0",
   "metadata": {
    "deletable": false,
    "id": "85a5faf6",
    "outputId": "801ef80e-522b-4668-f34e-565af7432bcf"
   },
   "outputs": [
    {
     "data": {
      "text/plain": [
       "income_type\n",
       "безработный        366413.652744\n",
       "в декрете            3296.759962\n",
       "госслужащий          2689.368353\n",
       "компаньон            1547.382223\n",
       "пенсионер          365213.306266\n",
       "предприниматель       520.848083\n",
       "сотрудник            1574.202821\n",
       "студент               578.751554\n",
       "Name: days_employed, dtype: float64"
      ]
     },
     "execution_count": 8,
     "metadata": {},
     "output_type": "execute_result"
    }
   ],
   "source": [
    "data.groupby('income_type')['days_employed'].agg('median')"
   ]
  },
  {
   "cell_type": "markdown",
   "id": "20c52fb2",
   "metadata": {
    "deletable": false,
    "editable": false,
    "id": "38d1a030"
   },
   "source": [
    "У двух типов (безработные и пенсионеры) получатся аномально большие значения. Исправить такие значения сложно, поэтому оставьте их как есть. Тем более этот столбец не понадобится вам для исследования."
   ]
  },
  {
   "cell_type": "markdown",
   "id": "b3bcf79e",
   "metadata": {
    "deletable": false,
    "editable": false,
    "id": "d8a9f147"
   },
   "source": [
    "**Задание 8. Выведите перечень уникальных значений столбца `children`.**"
   ]
  },
  {
   "cell_type": "code",
   "execution_count": 9,
   "id": "2907b4b2",
   "metadata": {
    "deletable": false,
    "id": "ef5056eb",
    "outputId": "6975b15c-7f95-4697-d16d-a0c79b657b03"
   },
   "outputs": [
    {
     "data": {
      "text/plain": [
       "array([ 1,  0,  3,  2, -1,  4, 20,  5], dtype=int64)"
      ]
     },
     "execution_count": 9,
     "metadata": {},
     "output_type": "execute_result"
    }
   ],
   "source": [
    "data['children'].unique()"
   ]
  },
  {
   "cell_type": "markdown",
   "id": "826c1490",
   "metadata": {
    "deletable": false,
    "editable": false,
    "id": "40b9ebf2"
   },
   "source": [
    "**Задание 9. В столбце `children` есть два аномальных значения. Удалите строки, в которых встречаются такие аномальные значения из датафрейма `data`.**"
   ]
  },
  {
   "cell_type": "code",
   "execution_count": 10,
   "id": "fcf606ab",
   "metadata": {
    "deletable": false,
    "id": "3ff9801d"
   },
   "outputs": [],
   "source": [
    "data = data[(data['children'] != -1) & (data['children'] != 20)]"
   ]
  },
  {
   "cell_type": "markdown",
   "id": "1d0f09a7",
   "metadata": {
    "deletable": false,
    "editable": false,
    "id": "bbc4d0ce"
   },
   "source": [
    "**Задание 10. Ещё раз выведите перечень уникальных значений столбца `children`, чтобы убедиться, что артефакты удалены.**"
   ]
  },
  {
   "cell_type": "code",
   "execution_count": 11,
   "id": "b2f4876f",
   "metadata": {
    "deletable": false,
    "id": "ad4fa8b7",
    "outputId": "b2097101-d49d-44d9-901b-32a65c9463d1"
   },
   "outputs": [
    {
     "data": {
      "text/plain": [
       "array([1, 0, 3, 2, 4, 5], dtype=int64)"
      ]
     },
     "execution_count": 11,
     "metadata": {},
     "output_type": "execute_result"
    }
   ],
   "source": [
    "data['children'].unique()"
   ]
  },
  {
   "cell_type": "markdown",
   "id": "73e04d60",
   "metadata": {
    "deletable": false,
    "editable": false,
    "id": "75440b63"
   },
   "source": [
    "### Удаление пропусков (продолжение)"
   ]
  },
  {
   "cell_type": "markdown",
   "id": "a696abbc",
   "metadata": {
    "deletable": false,
    "editable": false,
    "id": "f4ea573f"
   },
   "source": [
    "**Задание 11. Заполните пропуски в столбце `days_employed` медианными значениями по каждого типа занятости `income_type`.**"
   ]
  },
  {
   "cell_type": "code",
   "execution_count": 12,
   "id": "935e66e3",
   "metadata": {
    "deletable": false,
    "id": "af6b1a7e"
   },
   "outputs": [],
   "source": [
    "for t in data['income_type'].unique():\n",
    "    data.loc[(data['income_type'] == t) & (data['days_employed'].isna()), 'days_employed'] = \\\n",
    "    data.loc[(data['income_type'] == t), 'days_employed'].median()"
   ]
  },
  {
   "cell_type": "markdown",
   "id": "75e40a46",
   "metadata": {
    "deletable": false,
    "editable": false,
    "id": "2753f40d"
   },
   "source": [
    "**Задание 12. Убедитесь, что все пропуски заполнены. Проверьте себя и ещё раз выведите количество пропущенных значений для каждого столбца с помощью двух методов.**"
   ]
  },
  {
   "cell_type": "code",
   "execution_count": 13,
   "id": "9d5cc63c",
   "metadata": {
    "deletable": false,
    "id": "55f78bc2",
    "outputId": "8da1e4e1-358e-4e87-98c9-f261bce0a7b2"
   },
   "outputs": [
    {
     "data": {
      "text/plain": [
       "children            0\n",
       "days_employed       0\n",
       "dob_years           0\n",
       "education           0\n",
       "education_id        0\n",
       "family_status       0\n",
       "family_status_id    0\n",
       "gender              0\n",
       "income_type         0\n",
       "debt                0\n",
       "total_income        0\n",
       "purpose             0\n",
       "dtype: int64"
      ]
     },
     "execution_count": 13,
     "metadata": {},
     "output_type": "execute_result"
    }
   ],
   "source": [
    "data.isna().sum()"
   ]
  },
  {
   "cell_type": "markdown",
   "id": "bc47bca6",
   "metadata": {
    "deletable": false,
    "editable": false,
    "id": "ddc81e43"
   },
   "source": [
    "### Изменение типов данных"
   ]
  },
  {
   "cell_type": "markdown",
   "id": "01a99398",
   "metadata": {
    "deletable": false,
    "editable": false,
    "id": "42d19d24"
   },
   "source": [
    "**Задание 13. Замените вещественный тип данных в столбце `total_income` на целочисленный с помощью метода `astype()`.**"
   ]
  },
  {
   "cell_type": "code",
   "execution_count": 14,
   "id": "646587c6",
   "metadata": {
    "deletable": false,
    "id": "920b65ad"
   },
   "outputs": [],
   "source": [
    "data['total_income'] = data['total_income'].astype(int)"
   ]
  },
  {
   "cell_type": "markdown",
   "id": "c0fc24ca",
   "metadata": {
    "deletable": false,
    "editable": false,
    "id": "80c420ba"
   },
   "source": [
    "### Обработка дубликатов"
   ]
  },
  {
   "cell_type": "markdown",
   "id": "a6b83750",
   "metadata": {
    "deletable": false,
    "editable": false
   },
   "source": [
    "**Задание 14. Обработайте неявные дубликаты в столбце `education`. В этом столбце есть одни и те же значения, но записанные по-разному: с использованием заглавных и строчных букв. Приведите их к нижнему регистру. Проверьте остальные столбцы.**"
   ]
  },
  {
   "cell_type": "code",
   "execution_count": 15,
   "id": "809382e5",
   "metadata": {
    "deletable": false
   },
   "outputs": [],
   "source": [
    "data['education'] = data['education'].str.lower()"
   ]
  },
  {
   "cell_type": "markdown",
   "id": "3b6a413b",
   "metadata": {
    "deletable": false,
    "editable": false,
    "id": "dc587695"
   },
   "source": [
    "**Задание 15. Выведите на экран количество строк-дубликатов в данных. Если такие строки присутствуют, удалите их.**"
   ]
  },
  {
   "cell_type": "code",
   "execution_count": 16,
   "id": "fd68ff8b",
   "metadata": {
    "deletable": false,
    "id": "3ee445e4",
    "outputId": "9684deba-1934-42d1-99e1-cda61740f822"
   },
   "outputs": [
    {
     "data": {
      "text/plain": [
       "71"
      ]
     },
     "execution_count": 16,
     "metadata": {},
     "output_type": "execute_result"
    }
   ],
   "source": [
    "data.duplicated().sum()"
   ]
  },
  {
   "cell_type": "code",
   "execution_count": 17,
   "id": "186ef96c",
   "metadata": {
    "deletable": false,
    "id": "8575fe05"
   },
   "outputs": [],
   "source": [
    "data = data.drop_duplicates()"
   ]
  },
  {
   "cell_type": "markdown",
   "id": "e4776730",
   "metadata": {
    "deletable": false,
    "editable": false,
    "id": "9904cf55"
   },
   "source": [
    "### Категоризация данных"
   ]
  },
  {
   "cell_type": "markdown",
   "id": "a9998e37",
   "metadata": {
    "deletable": false,
    "editable": false,
    "id": "72fcc8a2"
   },
   "source": [
    "**Задание 16. На основании диапазонов, указанных ниже, создайте в датафрейме `data` столбец `total_income_category` с категориями:**\n",
    "\n",
    "- 0–30000 — `'E'`;\n",
    "- 30001–50000 — `'D'`;\n",
    "- 50001–200000 — `'C'`;\n",
    "- 200001–1000000 — `'B'`;\n",
    "- 1000001 и выше — `'A'`.\n",
    "\n",
    "\n",
    "**Например, кредитополучателю с доходом 25000 нужно назначить категорию `'E'`, а клиенту, получающему 235000, — `'B'`. Используйте собственную функцию с именем `categorize_income()` и метод `apply()`.**"
   ]
  },
  {
   "cell_type": "code",
   "execution_count": 18,
   "id": "374fc8c1",
   "metadata": {
    "deletable": false,
    "id": "e1771346"
   },
   "outputs": [],
   "source": [
    "def categorize_income(income):\n",
    "    'Функция для создания категорий по доходу.'\n",
    "    try:\n",
    "        if 0 <= income <= 30000:\n",
    "            return 'E'\n",
    "        elif 30001 <= income <= 50000:\n",
    "            return 'D'\n",
    "        elif 50001 <= income <= 200000:\n",
    "            return 'C'\n",
    "        elif 200001 <= income <= 1000000:\n",
    "            return 'B'\n",
    "        elif income >= 1000001:\n",
    "            return 'A'\n",
    "    except:\n",
    "        pass"
   ]
  },
  {
   "cell_type": "code",
   "execution_count": 19,
   "id": "8ffa22c5",
   "metadata": {
    "deletable": false,
    "id": "d5f3586d"
   },
   "outputs": [],
   "source": [
    "data['total_income_category'] = data['total_income'].apply(categorize_income)"
   ]
  },
  {
   "cell_type": "markdown",
   "id": "2264348f",
   "metadata": {
    "deletable": false,
    "editable": false,
    "id": "dde49b5c"
   },
   "source": [
    "**Задание 17. Выведите на экран перечень уникальных целей взятия кредита из столбца `purpose`.**"
   ]
  },
  {
   "cell_type": "code",
   "execution_count": 20,
   "id": "d2960d30",
   "metadata": {
    "deletable": false,
    "id": "f67ce9b3",
    "outputId": "673c12d9-7d7e-4ae0-9812-c622c89dd244"
   },
   "outputs": [
    {
     "data": {
      "text/plain": [
       "array(['покупка жилья', 'приобретение автомобиля',\n",
       "       'дополнительное образование', 'сыграть свадьбу',\n",
       "       'операции с жильем', 'образование', 'на проведение свадьбы',\n",
       "       'покупка жилья для семьи', 'покупка недвижимости',\n",
       "       'покупка коммерческой недвижимости', 'покупка жилой недвижимости',\n",
       "       'строительство собственной недвижимости', 'недвижимость',\n",
       "       'строительство недвижимости', 'на покупку подержанного автомобиля',\n",
       "       'на покупку своего автомобиля',\n",
       "       'операции с коммерческой недвижимостью',\n",
       "       'строительство жилой недвижимости', 'жилье',\n",
       "       'операции со своей недвижимостью', 'автомобили',\n",
       "       'заняться образованием', 'сделка с подержанным автомобилем',\n",
       "       'получение образования', 'автомобиль', 'свадьба',\n",
       "       'получение дополнительного образования', 'покупка своего жилья',\n",
       "       'операции с недвижимостью', 'получение высшего образования',\n",
       "       'свой автомобиль', 'сделка с автомобилем',\n",
       "       'профильное образование', 'высшее образование',\n",
       "       'покупка жилья для сдачи', 'на покупку автомобиля', 'ремонт жилью',\n",
       "       'заняться высшим образованием'], dtype=object)"
      ]
     },
     "execution_count": 20,
     "metadata": {},
     "output_type": "execute_result"
    }
   ],
   "source": [
    "data['purpose'].unique()"
   ]
  },
  {
   "cell_type": "markdown",
   "id": "5d6982da",
   "metadata": {
    "deletable": false,
    "editable": false,
    "id": "85d0aef0"
   },
   "source": [
    "**Задание 18. Создайте функцию, которая на основании данных из столбца `purpose` сформирует новый столбец `purpose_category`, в который войдут следующие категории:**\n",
    "\n",
    "- `'операции с автомобилем'`,\n",
    "- `'операции с недвижимостью'`,\n",
    "- `'проведение свадьбы'`,\n",
    "- `'получение образования'`.\n",
    "\n",
    "**Например, если в столбце `purpose` находится подстрока `'на покупку автомобиля'`, то в столбце `purpose_category` должна появиться строка `'операции с автомобилем'`.**\n",
    "\n",
    "**Используйте собственную функцию с именем `categorize_purpose()` и метод `apply()`. Изучите данные в столбце `purpose` и определите, какие подстроки помогут вам правильно определить категорию.**"
   ]
  },
  {
   "cell_type": "code",
   "execution_count": 21,
   "id": "174b3970",
   "metadata": {
    "deletable": false,
    "id": "e149fab4"
   },
   "outputs": [],
   "source": [
    "def categorize_purpose(row):\n",
    "    'Функция для созания категорий по цели кредита.'\n",
    "    try:\n",
    "        if 'автом' in row:\n",
    "            return 'операции с автомобилем'\n",
    "        elif 'жил' in row or 'недвиж' in row:\n",
    "            return 'операции с недвижимостью'\n",
    "        elif 'свад' in row:\n",
    "            return 'проведение свадьбы'\n",
    "        elif 'образов' in row:\n",
    "            return 'получение образования'\n",
    "    except:\n",
    "        return 'нет категории'"
   ]
  },
  {
   "cell_type": "code",
   "execution_count": 22,
   "id": "16657116",
   "metadata": {
    "deletable": false,
    "id": "bf36e69b"
   },
   "outputs": [],
   "source": [
    "data['purpose_category'] = data['purpose'].apply(categorize_purpose)"
   ]
  },
  {
   "cell_type": "markdown",
   "id": "75bfdcf8",
   "metadata": {
    "deletable": false,
    "editable": false,
    "id": "09b242bf"
   },
   "source": [
    "### Шаг 3. Исследуйте данные и ответьте на вопросы"
   ]
  },
  {
   "cell_type": "markdown",
   "id": "019ced06",
   "metadata": {
    "deletable": false,
    "editable": false,
    "id": "c5d66278"
   },
   "source": [
    "#### 3.1 Есть ли зависимость между количеством детей и возвратом кредита в срок?"
   ]
  },
  {
   "cell_type": "code",
   "execution_count": 23,
   "id": "f6c054aa",
   "metadata": {
    "deletable": false,
    "id": "2cacfc4a"
   },
   "outputs": [
    {
     "data": {
      "image/png": "[encoded data removed]",
      "text/plain": [
       "<Figure size 640x480 with 1 Axes>"
      ]
     },
     "metadata": {},
     "output_type": "display_data"
    }
   ],
   "source": [
    "import matplotlib.pyplot as plt\n",
    "\n",
    "children_credit_return = data.groupby('children')['debt'].value_counts(normalize=True).unstack()\n",
    "children_credit_return.plot(kind='bar', stacked=True)\n",
    "plt.title('Зависимость между количеством детей и возвратом кредита в срок')\n",
    "plt.xlabel('Количество детей')\n",
    "plt.ylabel('Доля возвратов')\n",
    "plt.show()"
   ]
  },
  {
   "cell_type": "code",
   "execution_count": 24,
   "id": "53b92b45",
   "metadata": {},
   "outputs": [],
   "source": [
    "# Построение сводных таблиц.\n",
    "def create_pivot_table(data, index_column):\n",
    "    '''Функция для создания сводной таблицы по категориям.'''\n",
    "    pivot_table = data.pivot_table(\n",
    "        index=index_column,\n",
    "        values='debt',\n",
    "        aggfunc='count'\n",
    "    ).rename_axis('Категория')\n",
    "    \n",
    "    # Добавление доли клиентов в категории\n",
    "    total_clients = data['debt'].count()\n",
    "    pivot_table['Клиентов (%)'] = (pivot_table['debt'] / total_clients) * 100\n",
    "    pivot_table['Клиентов (%)'] = pivot_table['Клиентов (%)'].round(2)\n",
    "\n",
    "    # Добавление доли задолженности в категории\n",
    "    debt_counts = data.groupby(index_column)['debt'].mean() \n",
    "    pivot_table['Должников (%)'] = debt_counts * 100  \n",
    "    pivot_table['Должников (%)'] = pivot_table['Должников (%)'].round(2)\n",
    "\n",
    "    # Удаление столбца 'debt' (если он существует)\n",
    "    if 'debt' in pivot_table.columns:\n",
    "        pivot_table = pivot_table.drop('debt', axis=1)\n",
    "\n",
    "    return pivot_table"
   ]
  },
  {
   "cell_type": "code",
   "execution_count": 25,
   "id": "56614566",
   "metadata": {},
   "outputs": [
    {
     "data": {
      "text/html": [
       "<div>\n",
       "<style scoped>\n",
       "    .dataframe tbody tr th:only-of-type {\n",
       "        vertical-align: middle;\n",
       "    }\n",
       "\n",
       "    .dataframe tbody tr th {\n",
       "        vertical-align: top;\n",
       "    }\n",
       "\n",
       "    .dataframe thead th {\n",
       "        text-align: right;\n",
       "    }\n",
       "</style>\n",
       "<table border=\"1\" class=\"dataframe\">\n",
       "  <thead>\n",
       "    <tr style=\"text-align: right;\">\n",
       "      <th></th>\n",
       "      <th>Клиентов (%)</th>\n",
       "      <th>Должников (%)</th>\n",
       "    </tr>\n",
       "    <tr>\n",
       "      <th>Категория</th>\n",
       "      <th></th>\n",
       "      <th></th>\n",
       "    </tr>\n",
       "  </thead>\n",
       "  <tbody>\n",
       "    <tr>\n",
       "      <th>0</th>\n",
       "      <td>66.06</td>\n",
       "      <td>7.54</td>\n",
       "    </tr>\n",
       "    <tr>\n",
       "      <th>1</th>\n",
       "      <td>22.54</td>\n",
       "      <td>9.23</td>\n",
       "    </tr>\n",
       "    <tr>\n",
       "      <th>2</th>\n",
       "      <td>9.62</td>\n",
       "      <td>9.45</td>\n",
       "    </tr>\n",
       "    <tr>\n",
       "      <th>3</th>\n",
       "      <td>1.55</td>\n",
       "      <td>8.18</td>\n",
       "    </tr>\n",
       "    <tr>\n",
       "      <th>4</th>\n",
       "      <td>0.19</td>\n",
       "      <td>9.76</td>\n",
       "    </tr>\n",
       "    <tr>\n",
       "      <th>5</th>\n",
       "      <td>0.04</td>\n",
       "      <td>0.00</td>\n",
       "    </tr>\n",
       "  </tbody>\n",
       "</table>\n",
       "</div>"
      ],
      "text/plain": [
       "           Клиентов (%)  Должников (%)\n",
       "Категория                             \n",
       "0                 66.06           7.54\n",
       "1                 22.54           9.23\n",
       "2                  9.62           9.45\n",
       "3                  1.55           8.18\n",
       "4                  0.19           9.76\n",
       "5                  0.04           0.00"
      ]
     },
     "metadata": {},
     "output_type": "display_data"
    }
   ],
   "source": [
    "# Создание сводной таблицы для количества детей\n",
    "children_pivot = create_pivot_table(data, 'children')\n",
    "display(children_pivot)"
   ]
  },
  {
   "cell_type": "markdown",
   "id": "520422c5",
   "metadata": {
    "deletable": false,
    "id": "3a6b99ec"
   },
   "source": [
    "**Вывод:** Код выполняет группировку данных по количеству детей (children) и подсчитывает долю возвратов кредита в срок (debt).\n",
    "Параметр normalize=True указывает, что мы хотим получить долю каждого значения относительно общего количества записей в группе.\n",
    "Явной зависимости между количеством детей и возвратом кредита в срок нет. 9 кредитов (меньше 0.04% всех кредитов) — это слишком малое количество для того, чтобы делать вывод, что семьи с 5-ю детьми более ответственые. Для того чтобы говорить о предполагаемой зависимости, необходимо больше данных и наблюдений."
   ]
  },
  {
   "cell_type": "markdown",
   "id": "a4671d32",
   "metadata": {},
   "source": [
    "Проверим, что выборки имеют достаточный размер для анализа, то есть больше 2% от всей. Если выборка слишком мала или не охватывает все категории, то сделанные на её основе выводы могут быть ошибочными. Проверка размерности позволяет избежать статистических ошибок и повысить точность анализа."
   ]
  },
  {
   "cell_type": "code",
   "execution_count": 26,
   "id": "c074dc90",
   "metadata": {},
   "outputs": [
    {
     "name": "stdout",
     "output_type": "stream",
     "text": [
      "Общее количество записей: 21331\n",
      "Порог для достаточного размера выборки: 426.62\n",
      "\n",
      "Количество записей в категориях:\n",
      " 0    14091\n",
      "1     4808\n",
      "2     2052\n",
      "3      330\n",
      "4       41\n",
      "5        9\n",
      "Name: children, dtype: int64\n",
      "\n",
      "Категории, меньше порога:\n",
      " 3    330\n",
      "4     41\n",
      "5      9\n",
      "Name: children, dtype: int64\n"
     ]
    }
   ],
   "source": [
    "# Общее количество записей\n",
    "total_count = len(data)\n",
    "\n",
    "# Порог для достаточного размера выборки (2%)\n",
    "threshold = total_count * 0.02\n",
    "\n",
    "# Подсчет количества записей в каждой категории\n",
    "category_counts = data['children'].value_counts()\n",
    "\n",
    "# Фильтрация категорий, которые не соответствуют порогу\n",
    "not_valid_categories = category_counts[category_counts <= threshold]\n",
    "\n",
    "# Печать результатов\n",
    "print(\"Общее количество записей:\", total_count)\n",
    "print(\"Порог для достаточного размера выборки:\", threshold)\n",
    "print()\n",
    "print(\"Количество записей в категориях:\\n\", category_counts)\n",
    "print()\n",
    "print(\"Категории, меньше порога:\\n\", not_valid_categories)\n"
   ]
  },
  {
   "cell_type": "markdown",
   "id": "dd9f61e5",
   "metadata": {},
   "source": [
    "Группы с 3-мя, 4-мя, 5-ю детьми являются не репрезентативными, поскольку не удовлетворяют пороговому значению 426.62. Объединим эти группы и категорию с 2-мя детьми с группой с 1-м ребенком."
   ]
  },
  {
   "cell_type": "code",
   "execution_count": 27,
   "id": "f6a860b0",
   "metadata": {},
   "outputs": [
    {
     "name": "stdout",
     "output_type": "stream",
     "text": [
      "Количество записей в новых категориях:\n",
      " 0    14091\n",
      "1     7240\n",
      "Name: children_category, dtype: int64\n"
     ]
    }
   ],
   "source": [
    "def categorize_children(row):\n",
    "    'Функция, которая определяет наличие детей.'\n",
    "    if row == 0:\n",
    "        return 0\n",
    "    elif row >= 1:\n",
    "        return 1\n",
    "\n",
    "# Применение функции для создания новой категории\n",
    "data['children_category'] = data['children'].apply(categorize_children)\n",
    "\n",
    "# Подсчет количества записей в новых категориях\n",
    "new_category_counts = data['children_category'].value_counts()\n",
    "\n",
    "# Печать результатов\n",
    "print(\"Количество записей в новых категориях:\\n\", new_category_counts)"
   ]
  },
  {
   "cell_type": "code",
   "execution_count": 28,
   "id": "adaf629b",
   "metadata": {},
   "outputs": [
    {
     "data": {
      "text/html": [
       "<div>\n",
       "<style scoped>\n",
       "    .dataframe tbody tr th:only-of-type {\n",
       "        vertical-align: middle;\n",
       "    }\n",
       "\n",
       "    .dataframe tbody tr th {\n",
       "        vertical-align: top;\n",
       "    }\n",
       "\n",
       "    .dataframe thead th {\n",
       "        text-align: right;\n",
       "    }\n",
       "</style>\n",
       "<table border=\"1\" class=\"dataframe\">\n",
       "  <thead>\n",
       "    <tr style=\"text-align: right;\">\n",
       "      <th></th>\n",
       "      <th>Клиентов (%)</th>\n",
       "      <th>Должников (%)</th>\n",
       "    </tr>\n",
       "    <tr>\n",
       "      <th>Категория</th>\n",
       "      <th></th>\n",
       "      <th></th>\n",
       "    </tr>\n",
       "  </thead>\n",
       "  <tbody>\n",
       "    <tr>\n",
       "      <th>0</th>\n",
       "      <td>66.06</td>\n",
       "      <td>7.54</td>\n",
       "    </tr>\n",
       "    <tr>\n",
       "      <th>1</th>\n",
       "      <td>33.94</td>\n",
       "      <td>9.24</td>\n",
       "    </tr>\n",
       "  </tbody>\n",
       "</table>\n",
       "</div>"
      ],
      "text/plain": [
       "           Клиентов (%)  Должников (%)\n",
       "Категория                             \n",
       "0                 66.06           7.54\n",
       "1                 33.94           9.24"
      ]
     },
     "metadata": {},
     "output_type": "display_data"
    }
   ],
   "source": [
    "# Создание сводной таблицы для количества детей (0 - нет детей, 1 - есть дети)\n",
    "children_pivot = create_pivot_table(data, 'children_category')\n",
    "display(children_pivot)"
   ]
  },
  {
   "cell_type": "markdown",
   "id": "9643f108",
   "metadata": {},
   "source": [
    "**Вывод:** Большинство клиентов в выборке — это те, у кого нет детей (66.06%). Доля должников среди клиентов с детьми (9.24%) выше, чем среди клиентов без детей (7.54%). Это может указывать на то, что наличие детей связано с более высокой вероятностью задолженности."
   ]
  },
  {
   "cell_type": "markdown",
   "id": "8d7961de",
   "metadata": {
    "deletable": false,
    "editable": false,
    "id": "97be82ca"
   },
   "source": [
    "#### 3.2 Есть ли зависимость между семейным положением и возвратом кредита в срок?"
   ]
  },
  {
   "cell_type": "code",
   "execution_count": 29,
   "id": "3d479606",
   "metadata": {
    "deletable": false,
    "id": "dc3f7ee8"
   },
   "outputs": [
    {
     "data": {
      "image/png": "[encoded data removed]",
      "text/plain": [
       "<Figure size 640x480 with 1 Axes>"
      ]
     },
     "metadata": {},
     "output_type": "display_data"
    }
   ],
   "source": [
    "family_status_credit_return = data.groupby('family_status')['debt'].value_counts(normalize=True).unstack()\n",
    "family_status_credit_return.plot(kind='bar', stacked=True)\n",
    "plt.title('Зависимость между семейным положением и возвратом кредита в срок')\n",
    "plt.xlabel('Семейное положение')\n",
    "plt.ylabel('Доля возвратов')\n",
    "plt.show()"
   ]
  },
  {
   "cell_type": "code",
   "execution_count": 30,
   "id": "4c9e1dc3",
   "metadata": {},
   "outputs": [
    {
     "data": {
      "text/html": [
       "<div>\n",
       "<style scoped>\n",
       "    .dataframe tbody tr th:only-of-type {\n",
       "        vertical-align: middle;\n",
       "    }\n",
       "\n",
       "    .dataframe tbody tr th {\n",
       "        vertical-align: top;\n",
       "    }\n",
       "\n",
       "    .dataframe thead th {\n",
       "        text-align: right;\n",
       "    }\n",
       "</style>\n",
       "<table border=\"1\" class=\"dataframe\">\n",
       "  <thead>\n",
       "    <tr style=\"text-align: right;\">\n",
       "      <th></th>\n",
       "      <th>Категория</th>\n",
       "      <th>Клиентов (%)</th>\n",
       "      <th>Должников (%)</th>\n",
       "    </tr>\n",
       "  </thead>\n",
       "  <tbody>\n",
       "    <tr>\n",
       "      <th>0</th>\n",
       "      <td>Не женат / не замужем</td>\n",
       "      <td>13.11</td>\n",
       "      <td>9.76</td>\n",
       "    </tr>\n",
       "    <tr>\n",
       "      <th>1</th>\n",
       "      <td>в разводе</td>\n",
       "      <td>5.57</td>\n",
       "      <td>7.06</td>\n",
       "    </tr>\n",
       "    <tr>\n",
       "      <th>2</th>\n",
       "      <td>вдовец / вдова</td>\n",
       "      <td>4.46</td>\n",
       "      <td>6.62</td>\n",
       "    </tr>\n",
       "    <tr>\n",
       "      <th>3</th>\n",
       "      <td>гражданский брак</td>\n",
       "      <td>19.38</td>\n",
       "      <td>9.31</td>\n",
       "    </tr>\n",
       "    <tr>\n",
       "      <th>4</th>\n",
       "      <td>женат / замужем</td>\n",
       "      <td>57.48</td>\n",
       "      <td>7.56</td>\n",
       "    </tr>\n",
       "  </tbody>\n",
       "</table>\n",
       "</div>"
      ],
      "text/plain": [
       "               Категория  Клиентов (%)  Должников (%)\n",
       "0  Не женат / не замужем         13.11           9.76\n",
       "1              в разводе          5.57           7.06\n",
       "2         вдовец / вдова          4.46           6.62\n",
       "3       гражданский брак         19.38           9.31\n",
       "4        женат / замужем         57.48           7.56"
      ]
     },
     "metadata": {},
     "output_type": "display_data"
    }
   ],
   "source": [
    "# Создание сводной таблицы по семейному положению клиентов\n",
    "family_status_pivot = create_pivot_table(data, 'family_status').reset_index()\n",
    "display(family_status_pivot)"
   ]
  },
  {
   "cell_type": "markdown",
   "id": "5a3e32f8",
   "metadata": {
    "deletable": false,
    "id": "1cef7837"
   },
   "source": [
    "**Вывод:** Аналогично, проведен анализ зависимости между семейным положением (family_status) и возвратом кредита.\n",
    "\n",
    "*Не женат / не замужем:* 9.76% должников, что может указывать на то, что эта группа имеет более высокую вероятность задолженности, возможно, из-за отсутствия финансовой поддержки со стороны партнера.\n",
    "\n",
    "*Гражданский брак:* 9.31% должников, что также может указывать на финансовые обязательства, связанные с совместной жизнью.\n",
    "\n",
    "*Женат / замужем:* 7.56% должников, что может свидетельствовать о более стабильном финансовом положении в этой категории.\n",
    "\n",
    "*В разводе:* 7.06% должников, что может указывать на финансовые трудности, связанные с разводом.\n",
    "\n",
    "*Вдовец / вдова:* 6.62% должников, что может быть связано с изменением финансового положения после потери партнера.\n",
    "\n",
    "Вступившие и вступавшие в брак являются более отвественными, чем холостые."
   ]
  },
  {
   "cell_type": "code",
   "execution_count": 31,
   "id": "4dd6b61f",
   "metadata": {},
   "outputs": [
    {
     "data": {
      "text/html": [
       "<div>\n",
       "<style scoped>\n",
       "    .dataframe tbody tr th:only-of-type {\n",
       "        vertical-align: middle;\n",
       "    }\n",
       "\n",
       "    .dataframe tbody tr th {\n",
       "        vertical-align: top;\n",
       "    }\n",
       "\n",
       "    .dataframe thead tr th {\n",
       "        text-align: left;\n",
       "    }\n",
       "</style>\n",
       "<table border=\"1\" class=\"dataframe\">\n",
       "  <thead>\n",
       "    <tr>\n",
       "      <th></th>\n",
       "      <th>Категория</th>\n",
       "      <th>dob_years</th>\n",
       "    </tr>\n",
       "    <tr>\n",
       "      <th></th>\n",
       "      <th></th>\n",
       "      <th>median</th>\n",
       "    </tr>\n",
       "  </thead>\n",
       "  <tbody>\n",
       "    <tr>\n",
       "      <th>0</th>\n",
       "      <td>Не женат / не замужем</td>\n",
       "      <td>36</td>\n",
       "    </tr>\n",
       "    <tr>\n",
       "      <th>1</th>\n",
       "      <td>в разводе</td>\n",
       "      <td>46</td>\n",
       "    </tr>\n",
       "    <tr>\n",
       "      <th>2</th>\n",
       "      <td>вдовец / вдова</td>\n",
       "      <td>58</td>\n",
       "    </tr>\n",
       "    <tr>\n",
       "      <th>3</th>\n",
       "      <td>гражданский брак</td>\n",
       "      <td>41</td>\n",
       "    </tr>\n",
       "    <tr>\n",
       "      <th>4</th>\n",
       "      <td>женат / замужем</td>\n",
       "      <td>43</td>\n",
       "    </tr>\n",
       "  </tbody>\n",
       "</table>\n",
       "</div>"
      ],
      "text/plain": [
       "               Категория dob_years\n",
       "                            median\n",
       "0  Не женат / не замужем        36\n",
       "1              в разводе        46\n",
       "2         вдовец / вдова        58\n",
       "3       гражданский брак        41\n",
       "4        женат / замужем        43"
      ]
     },
     "execution_count": 31,
     "metadata": {},
     "output_type": "execute_result"
    }
   ],
   "source": [
    "# Получение медианного возраста по семейному положению\n",
    "agg_func_describe = {'dob_years': ['median']}\n",
    "median_age = data.groupby(['family_status']).agg(agg_func_describe).round(2).reset_index()\n",
    "median_age = median_age.rename(columns={'family_status': 'Категория'})\n",
    "median_age"
   ]
  },
  {
   "cell_type": "code",
   "execution_count": 32,
   "id": "23149f16",
   "metadata": {},
   "outputs": [
    {
     "data": {
      "text/html": [
       "<div>\n",
       "<style scoped>\n",
       "    .dataframe tbody tr th:only-of-type {\n",
       "        vertical-align: middle;\n",
       "    }\n",
       "\n",
       "    .dataframe tbody tr th {\n",
       "        vertical-align: top;\n",
       "    }\n",
       "\n",
       "    .dataframe thead th {\n",
       "        text-align: right;\n",
       "    }\n",
       "</style>\n",
       "<table border=\"1\" class=\"dataframe\">\n",
       "  <thead>\n",
       "    <tr style=\"text-align: right;\">\n",
       "      <th></th>\n",
       "      <th>Категория</th>\n",
       "      <th>(Категория, )</th>\n",
       "      <th>(dob_years, median)</th>\n",
       "      <th>Клиентов (%)</th>\n",
       "      <th>Должников (%)</th>\n",
       "    </tr>\n",
       "  </thead>\n",
       "  <tbody>\n",
       "    <tr>\n",
       "      <th>0</th>\n",
       "      <td>Не женат / не замужем</td>\n",
       "      <td>Не женат / не замужем</td>\n",
       "      <td>36</td>\n",
       "      <td>13.11</td>\n",
       "      <td>9.76</td>\n",
       "    </tr>\n",
       "    <tr>\n",
       "      <th>1</th>\n",
       "      <td>в разводе</td>\n",
       "      <td>в разводе</td>\n",
       "      <td>46</td>\n",
       "      <td>5.57</td>\n",
       "      <td>7.06</td>\n",
       "    </tr>\n",
       "    <tr>\n",
       "      <th>2</th>\n",
       "      <td>вдовец / вдова</td>\n",
       "      <td>вдовец / вдова</td>\n",
       "      <td>58</td>\n",
       "      <td>4.46</td>\n",
       "      <td>6.62</td>\n",
       "    </tr>\n",
       "    <tr>\n",
       "      <th>3</th>\n",
       "      <td>гражданский брак</td>\n",
       "      <td>гражданский брак</td>\n",
       "      <td>41</td>\n",
       "      <td>19.38</td>\n",
       "      <td>9.31</td>\n",
       "    </tr>\n",
       "    <tr>\n",
       "      <th>4</th>\n",
       "      <td>женат / замужем</td>\n",
       "      <td>женат / замужем</td>\n",
       "      <td>43</td>\n",
       "      <td>57.48</td>\n",
       "      <td>7.56</td>\n",
       "    </tr>\n",
       "  </tbody>\n",
       "</table>\n",
       "</div>"
      ],
      "text/plain": [
       "               Категория          (Категория, )  (dob_years, median)  \\\n",
       "0  Не женат / не замужем  Не женат / не замужем                   36   \n",
       "1              в разводе              в разводе                   46   \n",
       "2         вдовец / вдова         вдовец / вдова                   58   \n",
       "3       гражданский брак       гражданский брак                   41   \n",
       "4        женат / замужем        женат / замужем                   43   \n",
       "\n",
       "   Клиентов (%)  Должников (%)  \n",
       "0         13.11           9.76  \n",
       "1          5.57           7.06  \n",
       "2          4.46           6.62  \n",
       "3         19.38           9.31  \n",
       "4         57.48           7.56  "
      ]
     },
     "execution_count": 32,
     "metadata": {},
     "output_type": "execute_result"
    }
   ],
   "source": [
    "import warnings\n",
    "warnings.filterwarnings('ignore') # Отключение предупреждений\n",
    "\n",
    "merged_results = pd.merge(median_age, family_status_pivot, on='Категория')\n",
    "merged_results"
   ]
  },
  {
   "cell_type": "markdown",
   "id": "e58835bb",
   "metadata": {
    "deletable": false,
    "editable": false,
    "id": "1e8b2fca"
   },
   "source": [
    "#### 3.3 Есть ли зависимость между уровнем дохода и возвратом кредита в срок?"
   ]
  },
  {
   "cell_type": "code",
   "execution_count": 33,
   "id": "bda51d11",
   "metadata": {
    "deletable": false,
    "id": "cd7e3720",
    "scrolled": true
   },
   "outputs": [
    {
     "data": {
      "image/png": "[encoded data removed]",
      "text/plain": [
       "<Figure size 640x480 with 1 Axes>"
      ]
     },
     "metadata": {},
     "output_type": "display_data"
    }
   ],
   "source": [
    "income_credit_return = data.groupby('total_income_category')['debt'].value_counts().unstack()\n",
    "income_credit_return.plot(kind='bar', stacked=True)\n",
    "plt.title('Зависимость между уровнем дохода и возвратом кредита в срок')\n",
    "plt.xlabel('Уровень дохода')\n",
    "plt.ylabel('Количество возвратов')\n",
    "plt.show()"
   ]
  },
  {
   "cell_type": "code",
   "execution_count": 34,
   "id": "5b7e7e83",
   "metadata": {},
   "outputs": [
    {
     "data": {
      "image/png": "[encoded data removed]",
      "text/plain": [
       "<Figure size 640x480 with 1 Axes>"
      ]
     },
     "metadata": {},
     "output_type": "display_data"
    }
   ],
   "source": [
    "income_credit_return = data.groupby('total_income_category')['debt'].value_counts(normalize=True).unstack()\n",
    "income_credit_return.plot(kind='bar', stacked=True)\n",
    "plt.title('Зависимость между уровнем дохода и возвратом кредита в срок')\n",
    "plt.xlabel('Уровень дохода')\n",
    "plt.ylabel('Доля возвратов')\n",
    "plt.show()"
   ]
  },
  {
   "cell_type": "code",
   "execution_count": 35,
   "id": "2d06706a",
   "metadata": {},
   "outputs": [
    {
     "data": {
      "text/html": [
       "<div>\n",
       "<style scoped>\n",
       "    .dataframe tbody tr th:only-of-type {\n",
       "        vertical-align: middle;\n",
       "    }\n",
       "\n",
       "    .dataframe tbody tr th {\n",
       "        vertical-align: top;\n",
       "    }\n",
       "\n",
       "    .dataframe thead th {\n",
       "        text-align: right;\n",
       "    }\n",
       "</style>\n",
       "<table border=\"1\" class=\"dataframe\">\n",
       "  <thead>\n",
       "    <tr style=\"text-align: right;\">\n",
       "      <th></th>\n",
       "      <th>Клиентов (%)</th>\n",
       "      <th>Должников (%)</th>\n",
       "    </tr>\n",
       "    <tr>\n",
       "      <th>Категория</th>\n",
       "      <th></th>\n",
       "      <th></th>\n",
       "    </tr>\n",
       "  </thead>\n",
       "  <tbody>\n",
       "    <tr>\n",
       "      <th>A</th>\n",
       "      <td>0.12</td>\n",
       "      <td>8.00</td>\n",
       "    </tr>\n",
       "    <tr>\n",
       "      <th>B</th>\n",
       "      <td>23.51</td>\n",
       "      <td>7.06</td>\n",
       "    </tr>\n",
       "    <tr>\n",
       "      <th>C</th>\n",
       "      <td>74.64</td>\n",
       "      <td>8.50</td>\n",
       "    </tr>\n",
       "    <tr>\n",
       "      <th>D</th>\n",
       "      <td>1.64</td>\n",
       "      <td>6.02</td>\n",
       "    </tr>\n",
       "    <tr>\n",
       "      <th>E</th>\n",
       "      <td>0.10</td>\n",
       "      <td>9.09</td>\n",
       "    </tr>\n",
       "  </tbody>\n",
       "</table>\n",
       "</div>"
      ],
      "text/plain": [
       "           Клиентов (%)  Должников (%)\n",
       "Категория                             \n",
       "A                  0.12           8.00\n",
       "B                 23.51           7.06\n",
       "C                 74.64           8.50\n",
       "D                  1.64           6.02\n",
       "E                  0.10           9.09"
      ]
     },
     "metadata": {},
     "output_type": "display_data"
    }
   ],
   "source": [
    "# Создание сводной таблицы по категории дохода\n",
    "total_income_pivot = create_pivot_table(data, 'total_income_category')\n",
    "display(total_income_pivot)"
   ]
  },
  {
   "cell_type": "markdown",
   "id": "70e2008a",
   "metadata": {
    "deletable": false,
    "id": "e8593def"
   },
   "source": [
    "**Вывод:** Выборки крайне несбалансированны. Для категорий A (0.12%), D (1.64%) и E (0.10%) от общего числа заемщиков стоит рассмотреть возможность сбора дополнительных данных, чтобы улучшить репрезентативность выборки. \n",
    "\n",
    "*Клиенты со средним и выше среднего доходом (категории B и С)*:\n",
    "\n",
    "Категории B (23.51%) и С (74.64%) имеют наибольшее количество клиентов, что указывает на высокий спрос на кредиты среди людей с таким уровнем дохода.\n",
    "Высокий процент должников в категории C (8.50%) может свидетельствовать о том, что клиенты с этим уровнем дохода могут испытывать финансовые трудности, несмотря на то, что они составляют основную массу заемщиков.\n",
    "\n",
    "*Клиенты с низким доходом (категории D и E)*:\n",
    "выборки крайне несбалансированны.\n",
    "Низкий уровень кредитования для клиентов с доходом в категориях D и E может быть обусловлен высокими рисками невозврата кредитов. Это также подтверждается высоким процентом должников в категории E (9.09%), что указывает на уязвимость этой группы.\n",
    "\n",
    "*Обеспеченные клиенты (категория A)*:\n",
    "\n",
    "Несмотря на малую долю клиентов, процент должников (8.00%) в этой категории также значителен. Это может указывать на то, что даже клиенты с высоким доходом могут сталкиваться с финансовыми проблемами, возможно, из-за высоких обязательств или других факторов.\n",
    "Это может быть поводом для анализа финансового поведения этой группы и разработки индивидуальных предложений."
   ]
  },
  {
   "cell_type": "markdown",
   "id": "f4239f54",
   "metadata": {
    "deletable": false,
    "editable": false,
    "id": "99ecbd1f"
   },
   "source": [
    "#### 3.4 Как разные цели кредита влияют на его возврат в срок?"
   ]
  },
  {
   "cell_type": "code",
   "execution_count": 36,
   "id": "96cc24e7",
   "metadata": {
    "deletable": false,
    "id": "2b687290"
   },
   "outputs": [
    {
     "data": {
      "image/png": "[encoded data removed]",
      "text/plain": [
       "<Figure size 640x480 with 1 Axes>"
      ]
     },
     "metadata": {},
     "output_type": "display_data"
    }
   ],
   "source": [
    "credit_purpose_return = data.groupby('purpose_category')['debt'].value_counts(normalize=True).unstack()\n",
    "credit_purpose_return.plot(kind='bar', stacked=True)\n",
    "plt.title('Влияние целей кредита на его возврат в срок')\n",
    "plt.xlabel('Цель кредита')\n",
    "plt.ylabel('Доля возвратов')\n",
    "plt.show()"
   ]
  },
  {
   "cell_type": "code",
   "execution_count": 37,
   "id": "d85b72a5",
   "metadata": {},
   "outputs": [
    {
     "data": {
      "text/html": [
       "<div>\n",
       "<style scoped>\n",
       "    .dataframe tbody tr th:only-of-type {\n",
       "        vertical-align: middle;\n",
       "    }\n",
       "\n",
       "    .dataframe tbody tr th {\n",
       "        vertical-align: top;\n",
       "    }\n",
       "\n",
       "    .dataframe thead th {\n",
       "        text-align: right;\n",
       "    }\n",
       "</style>\n",
       "<table border=\"1\" class=\"dataframe\">\n",
       "  <thead>\n",
       "    <tr style=\"text-align: right;\">\n",
       "      <th></th>\n",
       "      <th>Клиентов (%)</th>\n",
       "      <th>Должников (%)</th>\n",
       "    </tr>\n",
       "    <tr>\n",
       "      <th>Категория</th>\n",
       "      <th></th>\n",
       "      <th></th>\n",
       "    </tr>\n",
       "  </thead>\n",
       "  <tbody>\n",
       "    <tr>\n",
       "      <th>операции с автомобилем</th>\n",
       "      <td>20.06</td>\n",
       "      <td>9.35</td>\n",
       "    </tr>\n",
       "    <tr>\n",
       "      <th>операции с недвижимостью</th>\n",
       "      <td>50.40</td>\n",
       "      <td>7.26</td>\n",
       "    </tr>\n",
       "    <tr>\n",
       "      <th>получение образования</th>\n",
       "      <td>18.70</td>\n",
       "      <td>9.25</td>\n",
       "    </tr>\n",
       "    <tr>\n",
       "      <th>проведение свадьбы</th>\n",
       "      <td>10.84</td>\n",
       "      <td>7.91</td>\n",
       "    </tr>\n",
       "  </tbody>\n",
       "</table>\n",
       "</div>"
      ],
      "text/plain": [
       "                          Клиентов (%)  Должников (%)\n",
       "Категория                                            \n",
       "операции с автомобилем           20.06           9.35\n",
       "операции с недвижимостью         50.40           7.26\n",
       "получение образования            18.70           9.25\n",
       "проведение свадьбы               10.84           7.91"
      ]
     },
     "metadata": {},
     "output_type": "display_data"
    }
   ],
   "source": [
    "# Создание сводной таблицы по категории дохода\n",
    "purpose_category_pivot = create_pivot_table(data, 'purpose_category')\n",
    "display(purpose_category_pivot)"
   ]
  },
  {
   "cell_type": "markdown",
   "id": "e8f47213",
   "metadata": {
    "deletable": false,
    "id": "b4bb2ce6"
   },
   "source": [
    "**Вывод:** Клиенты, берущие кредиты на важные жизненные цели, такие как 'операции с недвижимостью' (50.40% клиентов, 7.26% должников), и 'проведение свадьбы' (10.84% клиентов, 7.91% должников), более ответственно подходят к их погашению, чем те, кто берет кредиты на 'операции с автомобилем' (20.06% клиентов, 9.35% должников) или 'получение образования' (18.17% клиентов, 9.25% должников)."
   ]
  },
  {
   "cell_type": "markdown",
   "id": "dc86f92c",
   "metadata": {
    "deletable": false,
    "editable": false,
    "id": "09c3ac4c"
   },
   "source": [
    "#### 3.5 Приведите возможные причины появления пропусков в исходных данных."
   ]
  },
  {
   "cell_type": "markdown",
   "id": "8b7a2383",
   "metadata": {
    "deletable": false,
    "id": "9da2ceda"
   },
   "source": [
    "*Ответ:* Пропуски в данных могут возникать по нескольким причинам:\n",
    "\n",
    "* Ошибки при вводе данных.\n",
    "* Неполная информация от клиентов (например, не указали количество детей).\n",
    "* Технические сбои в процессе сбора данных.\n",
    "* Условия, при которых информация не применима (например, отсутствие дохода у безработных) и др."
   ]
  },
  {
   "cell_type": "markdown",
   "id": "a6f5f562",
   "metadata": {
    "deletable": false,
    "editable": false,
    "id": "7b0487d6"
   },
   "source": [
    "#### 3.6 Объясните, почему заполнить пропуски медианным значением — лучшее решение для количественных переменных."
   ]
  },
  {
   "cell_type": "markdown",
   "id": "8ef84b27",
   "metadata": {
    "deletable": false,
    "id": "7ecf2b8e"
   },
   "source": [
    "*Ответ:* Заполнение пропусков медианным значением является хорошей практикой, потому что медиана менее чувствительна к выбросам, чем среднее значение. Это означает, что если в данных есть аномальные значения, они не будут искажать заполнение пропусков."
   ]
  },
  {
   "cell_type": "markdown",
   "id": "ecb8230e",
   "metadata": {
    "deletable": false,
    "editable": false,
    "id": "6db5255a"
   },
   "source": [
    "### Шаг 4: общий вывод."
   ]
  },
  {
   "cell_type": "markdown",
   "id": "d5efb81f",
   "metadata": {
    "deletable": false,
    "id": "bad65432"
   },
   "source": [
    "Напишите ваш общий вывод."
   ]
  },
  {
   "cell_type": "markdown",
   "id": "1fc30b25",
   "metadata": {},
   "source": [
    "В ходе иссдедования проверены следующие гипотезы и сделаны выводы.\n",
    "1. Есть ли зависимость между количеством детей и возвратом кредита в срок?\n",
    "\n",
    "Большинство клиентов в выборке — это те, у кого нет детей (66.06%). Доля должников среди клиентов с детьми (9.24%) выше, чем среди клиентов без детей (7.54%). Это может указывать на то, что наличие детей связано с более высокой вероятностью задолженности. \n",
    "\n",
    "2. Есть ли зависимость между семейным положением и возвратом кредита в срок?\n",
    "\n",
    "Анализ данных подтверждает наличие определенной зависимости между семейным положением\n",
    "и вероятностью своевременного возврата кредита:\n",
    "\n",
    "Холостые заемщики (9.76%) показывают самую высокую долю должников. \n",
    "Пары в гражданском браке (9.31%) также демонстрируют повышенный риск.\n",
    "Официально женатые/замужние (7.56%) показывают более низкий процент.\n",
    "Разведенные (7.06%) имеют неплохой показатель.\n",
    "Вдовцы/вдовы (6.62%) показывают лучший результат.\n",
    " \n",
    "3. Есть ли зависимость между уровнем дохода и возвратом кредита в срок?\n",
    "\n",
    "Прямая зависимость между уровнем дохода и ответственностью по кредитам не является абсолютной.\n",
    "Наибольшее количество заемщиков приходится на категории B (23.51%) и C (74.64%)- клиентов со средним доходом.\n",
    "Процент должников варьируется от 8.00% до 9.09% в разных категориях.\n",
    "Выборка существенно несбалансирована, особенно в категориях A, D и E. В этих категориях требуется дополнительный анализ из-за малой выборки.\n",
    "\n",
    "4. Как разные цели кредита влияют на его возврат в срок?\n",
    "\n",
    "Клиенты, берущие кредиты на важные жизненные цели, такие как 'операции с недвижимостью' (50.40% клиентов, 7.26% должников), и 'проведение свадьбы' (10.84% клиентов, 7.91% должников), более ответственно подходят к их погашению, чем те, кто берет кредиты на 'операции с автомобилем' (20.06% клиентов, 9.35% должников) или 'получение образования' (18.17% клиентов, 9.25% должников)."
   ]
  }
 ],
 "metadata": {
  "ExecuteTimeLog": [
   {
    "duration": 63,
    "start_time": "2025-02-23T06:18:53.855Z"
   },
   {
    "duration": 558,
    "start_time": "2025-02-23T06:19:04.038Z"
   },
   {
    "duration": 26,
    "start_time": "2025-02-23T06:19:04.598Z"
   },
   {
    "duration": 39,
    "start_time": "2025-02-23T06:19:04.625Z"
   },
   {
    "duration": 12,
    "start_time": "2025-02-23T06:19:04.667Z"
   },
   {
    "duration": 44,
    "start_time": "2025-02-23T06:19:04.681Z"
   },
   {
    "duration": 4,
    "start_time": "2025-02-23T06:19:04.726Z"
   },
   {
    "duration": 46,
    "start_time": "2025-02-23T06:19:04.732Z"
   },
   {
    "duration": 7,
    "start_time": "2025-02-23T06:19:04.780Z"
   },
   {
    "duration": 32,
    "start_time": "2025-02-23T06:19:04.788Z"
   },
   {
    "duration": 24,
    "start_time": "2025-02-23T06:19:04.822Z"
   },
   {
    "duration": 62,
    "start_time": "2025-02-23T06:19:04.848Z"
   },
   {
    "duration": 38,
    "start_time": "2025-02-23T06:19:04.912Z"
   },
   {
    "duration": 72,
    "start_time": "2025-02-23T06:19:04.951Z"
   },
   {
    "duration": 43,
    "start_time": "2025-02-23T06:19:05.025Z"
   },
   {
    "duration": 34,
    "start_time": "2025-02-23T06:19:05.070Z"
   },
   {
    "duration": 28,
    "start_time": "2025-02-23T06:19:05.106Z"
   },
   {
    "duration": 13,
    "start_time": "2025-02-23T06:19:05.136Z"
   },
   {
    "duration": 36,
    "start_time": "2025-02-23T06:19:05.151Z"
   },
   {
    "duration": 11,
    "start_time": "2025-02-23T06:19:05.189Z"
   },
   {
    "duration": 27,
    "start_time": "2025-02-23T06:19:05.202Z"
   },
   {
    "duration": 24,
    "start_time": "2025-02-23T06:19:05.231Z"
   },
   {
    "duration": 1122,
    "start_time": "2025-02-23T06:26:12.364Z"
   },
   {
    "duration": 250,
    "start_time": "2025-02-23T06:27:29.687Z"
   },
   {
    "duration": 201,
    "start_time": "2025-02-23T06:28:12.091Z"
   },
   {
    "duration": 205,
    "start_time": "2025-02-23T06:29:20.636Z"
   },
   {
    "duration": 100,
    "start_time": "2025-02-23T06:29:50.568Z"
   },
   {
    "duration": 182,
    "start_time": "2025-02-23T06:29:56.942Z"
   },
   {
    "duration": 182,
    "start_time": "2025-02-23T06:30:17.869Z"
   },
   {
    "duration": 14,
    "start_time": "2025-02-23T06:58:10.577Z"
   },
   {
    "duration": 183,
    "start_time": "2025-02-23T06:58:23.498Z"
   },
   {
    "duration": 16,
    "start_time": "2025-02-23T07:12:11.877Z"
   },
   {
    "duration": 13,
    "start_time": "2025-02-23T07:12:21.717Z"
   },
   {
    "duration": 15,
    "start_time": "2025-02-23T07:12:26.494Z"
   },
   {
    "duration": 518,
    "start_time": "2025-02-23T07:28:27.370Z"
   },
   {
    "duration": 26,
    "start_time": "2025-02-23T07:28:27.890Z"
   },
   {
    "duration": 18,
    "start_time": "2025-02-23T07:28:27.917Z"
   },
   {
    "duration": 25,
    "start_time": "2025-02-23T07:28:27.937Z"
   },
   {
    "duration": 40,
    "start_time": "2025-02-23T07:28:27.964Z"
   },
   {
    "duration": 4,
    "start_time": "2025-02-23T07:28:28.006Z"
   },
   {
    "duration": 9,
    "start_time": "2025-02-23T07:28:28.012Z"
   },
   {
    "duration": 40,
    "start_time": "2025-02-23T07:28:28.022Z"
   },
   {
    "duration": 9,
    "start_time": "2025-02-23T07:28:28.063Z"
   },
   {
    "duration": 5,
    "start_time": "2025-02-23T07:28:28.074Z"
   },
   {
    "duration": 43,
    "start_time": "2025-02-23T07:28:28.081Z"
   },
   {
    "duration": 42,
    "start_time": "2025-02-23T07:28:28.126Z"
   },
   {
    "duration": 5,
    "start_time": "2025-02-23T07:28:28.170Z"
   },
   {
    "duration": 22,
    "start_time": "2025-02-23T07:28:28.179Z"
   },
   {
    "duration": 24,
    "start_time": "2025-02-23T07:28:28.203Z"
   },
   {
    "duration": 48,
    "start_time": "2025-02-23T07:28:28.228Z"
   },
   {
    "duration": 3,
    "start_time": "2025-02-23T07:28:28.278Z"
   },
   {
    "duration": 15,
    "start_time": "2025-02-23T07:28:28.283Z"
   },
   {
    "duration": 7,
    "start_time": "2025-02-23T07:28:28.300Z"
   },
   {
    "duration": 4,
    "start_time": "2025-02-23T07:28:28.310Z"
   },
   {
    "duration": 45,
    "start_time": "2025-02-23T07:28:28.316Z"
   },
   {
    "duration": 1128,
    "start_time": "2025-02-23T07:28:28.363Z"
   },
   {
    "duration": 212,
    "start_time": "2025-02-23T07:28:29.493Z"
   },
   {
    "duration": 0,
    "start_time": "2025-02-23T07:30:44.297Z"
   },
   {
    "duration": 0,
    "start_time": "2025-02-23T07:30:44.299Z"
   },
   {
    "duration": 213,
    "start_time": "2025-02-23T07:30:54.114Z"
   },
   {
    "duration": 180,
    "start_time": "2025-02-23T07:32:23.466Z"
   },
   {
    "duration": 198,
    "start_time": "2025-02-23T07:33:25.560Z"
   },
   {
    "duration": 169,
    "start_time": "2025-02-23T07:34:36.468Z"
   },
   {
    "duration": 180,
    "start_time": "2025-02-23T07:34:56.329Z"
   },
   {
    "duration": 172,
    "start_time": "2025-02-23T07:36:26.286Z"
   },
   {
    "duration": 177,
    "start_time": "2025-02-23T07:37:26.877Z"
   },
   {
    "duration": 173,
    "start_time": "2025-02-23T07:38:49.596Z"
   },
   {
    "duration": 1332,
    "start_time": "2025-02-23T19:31:59.127Z"
   },
   {
    "duration": 66,
    "start_time": "2025-02-23T19:32:07.278Z"
   },
   {
    "duration": 18,
    "start_time": "2025-02-23T19:32:07.346Z"
   },
   {
    "duration": 33,
    "start_time": "2025-02-23T19:32:07.365Z"
   },
   {
    "duration": 48,
    "start_time": "2025-02-23T19:32:07.400Z"
   },
   {
    "duration": 63,
    "start_time": "2025-02-23T19:32:07.450Z"
   },
   {
    "duration": 2,
    "start_time": "2025-02-23T19:32:07.515Z"
   },
   {
    "duration": 102,
    "start_time": "2025-02-23T19:32:07.519Z"
   },
   {
    "duration": 8,
    "start_time": "2025-02-23T19:32:07.623Z"
   },
   {
    "duration": 41,
    "start_time": "2025-02-23T19:32:07.633Z"
   },
   {
    "duration": 4,
    "start_time": "2025-02-23T19:32:07.676Z"
   },
   {
    "duration": 33,
    "start_time": "2025-02-23T19:32:07.681Z"
   },
   {
    "duration": 9,
    "start_time": "2025-02-23T19:32:07.716Z"
   },
   {
    "duration": 28,
    "start_time": "2025-02-23T19:32:07.726Z"
   },
   {
    "duration": 13,
    "start_time": "2025-02-23T19:32:07.755Z"
   },
   {
    "duration": 17,
    "start_time": "2025-02-23T19:32:07.769Z"
   },
   {
    "duration": 16,
    "start_time": "2025-02-23T19:32:07.788Z"
   },
   {
    "duration": 31,
    "start_time": "2025-02-23T19:32:07.806Z"
   },
   {
    "duration": 16,
    "start_time": "2025-02-23T19:32:07.839Z"
   },
   {
    "duration": 6,
    "start_time": "2025-02-23T19:32:07.856Z"
   },
   {
    "duration": 10,
    "start_time": "2025-02-23T19:32:07.863Z"
   },
   {
    "duration": 19,
    "start_time": "2025-02-23T19:32:07.874Z"
   },
   {
    "duration": 264,
    "start_time": "2025-02-23T19:32:07.894Z"
   },
   {
    "duration": 171,
    "start_time": "2025-02-23T19:32:08.159Z"
   },
   {
    "duration": 155,
    "start_time": "2025-02-23T19:32:08.331Z"
   },
   {
    "duration": 152,
    "start_time": "2025-02-23T19:32:08.487Z"
   },
   {
    "duration": 175,
    "start_time": "2025-02-23T19:32:08.641Z"
   },
   {
    "duration": 151,
    "start_time": "2025-02-23T19:32:32.213Z"
   },
   {
    "duration": 158,
    "start_time": "2025-02-23T19:32:45.342Z"
   },
   {
    "duration": 163,
    "start_time": "2025-02-23T19:33:02.178Z"
   },
   {
    "duration": 214,
    "start_time": "2025-02-23T19:33:11.246Z"
   },
   {
    "duration": 252,
    "start_time": "2025-02-23T19:33:56.542Z"
   },
   {
    "duration": 150,
    "start_time": "2025-02-23T19:34:23.574Z"
   },
   {
    "duration": 149,
    "start_time": "2025-02-23T19:37:11.606Z"
   },
   {
    "duration": 157,
    "start_time": "2025-02-23T19:37:23.622Z"
   },
   {
    "duration": 156,
    "start_time": "2025-02-23T19:37:31.255Z"
   },
   {
    "duration": 153,
    "start_time": "2025-02-23T19:37:39.113Z"
   },
   {
    "duration": 150,
    "start_time": "2025-02-23T19:39:47.325Z"
   },
   {
    "duration": 156,
    "start_time": "2025-02-23T19:39:54.130Z"
   },
   {
    "duration": 152,
    "start_time": "2025-02-23T19:40:19.110Z"
   },
   {
    "duration": 157,
    "start_time": "2025-02-23T19:50:35.732Z"
   },
   {
    "duration": 9,
    "start_time": "2025-02-23T19:53:21.126Z"
   },
   {
    "duration": 221,
    "start_time": "2025-02-23T19:56:49.590Z"
   },
   {
    "duration": 5,
    "start_time": "2025-02-23T20:05:25.063Z"
   },
   {
    "duration": 21,
    "start_time": "2025-02-23T20:08:55.775Z"
   },
   {
    "duration": 100,
    "start_time": "2025-02-23T20:12:53.497Z"
   },
   {
    "duration": 61,
    "start_time": "2025-02-23T20:17:41.558Z"
   },
   {
    "duration": 14,
    "start_time": "2025-02-23T20:17:41.621Z"
   },
   {
    "duration": 20,
    "start_time": "2025-02-23T20:17:41.636Z"
   },
   {
    "duration": 9,
    "start_time": "2025-02-23T20:17:41.670Z"
   },
   {
    "duration": 39,
    "start_time": "2025-02-23T20:17:41.681Z"
   },
   {
    "duration": 2,
    "start_time": "2025-02-23T20:17:41.722Z"
   },
   {
    "duration": 51,
    "start_time": "2025-02-23T20:17:41.726Z"
   },
   {
    "duration": 10,
    "start_time": "2025-02-23T20:17:41.778Z"
   },
   {
    "duration": 10,
    "start_time": "2025-02-23T20:17:41.789Z"
   },
   {
    "duration": 4,
    "start_time": "2025-02-23T20:17:41.801Z"
   },
   {
    "duration": 33,
    "start_time": "2025-02-23T20:17:41.806Z"
   },
   {
    "duration": 9,
    "start_time": "2025-02-23T20:17:41.840Z"
   },
   {
    "duration": 21,
    "start_time": "2025-02-23T20:17:41.850Z"
   },
   {
    "duration": 9,
    "start_time": "2025-02-23T20:17:41.873Z"
   },
   {
    "duration": 21,
    "start_time": "2025-02-23T20:17:41.883Z"
   },
   {
    "duration": 14,
    "start_time": "2025-02-23T20:17:41.906Z"
   },
   {
    "duration": 3,
    "start_time": "2025-02-23T20:17:41.921Z"
   },
   {
    "duration": 15,
    "start_time": "2025-02-23T20:17:41.925Z"
   },
   {
    "duration": 4,
    "start_time": "2025-02-23T20:17:41.942Z"
   },
   {
    "duration": 4,
    "start_time": "2025-02-23T20:17:41.948Z"
   },
   {
    "duration": 8,
    "start_time": "2025-02-23T20:17:41.970Z"
   },
   {
    "duration": 152,
    "start_time": "2025-02-23T20:17:41.979Z"
   },
   {
    "duration": 9,
    "start_time": "2025-02-23T20:17:42.133Z"
   },
   {
    "duration": 167,
    "start_time": "2025-02-23T20:17:42.144Z"
   },
   {
    "duration": 159,
    "start_time": "2025-02-23T20:17:42.313Z"
   },
   {
    "duration": 148,
    "start_time": "2025-02-23T20:17:42.473Z"
   },
   {
    "duration": 156,
    "start_time": "2025-02-23T20:17:42.622Z"
   },
   {
    "duration": 501,
    "start_time": "2025-02-24T07:51:08.018Z"
   },
   {
    "duration": 21,
    "start_time": "2025-02-24T07:51:08.521Z"
   },
   {
    "duration": 15,
    "start_time": "2025-02-24T07:51:08.544Z"
   },
   {
    "duration": 10,
    "start_time": "2025-02-24T07:51:08.561Z"
   },
   {
    "duration": 57,
    "start_time": "2025-02-24T07:51:08.572Z"
   },
   {
    "duration": 3,
    "start_time": "2025-02-24T07:51:08.631Z"
   },
   {
    "duration": 8,
    "start_time": "2025-02-24T07:51:08.636Z"
   },
   {
    "duration": 3,
    "start_time": "2025-02-24T07:51:08.646Z"
   },
   {
    "duration": 10,
    "start_time": "2025-02-24T07:51:08.651Z"
   },
   {
    "duration": 4,
    "start_time": "2025-02-24T07:51:08.663Z"
   },
   {
    "duration": 60,
    "start_time": "2025-02-24T07:51:08.668Z"
   },
   {
    "duration": 10,
    "start_time": "2025-02-24T07:51:08.729Z"
   },
   {
    "duration": 3,
    "start_time": "2025-02-24T07:51:08.741Z"
   },
   {
    "duration": 16,
    "start_time": "2025-02-24T07:51:08.746Z"
   },
   {
    "duration": 26,
    "start_time": "2025-02-24T07:51:08.764Z"
   },
   {
    "duration": 29,
    "start_time": "2025-02-24T07:51:08.791Z"
   },
   {
    "duration": 3,
    "start_time": "2025-02-24T07:51:08.822Z"
   },
   {
    "duration": 13,
    "start_time": "2025-02-24T07:51:08.827Z"
   },
   {
    "duration": 6,
    "start_time": "2025-02-24T07:51:08.841Z"
   },
   {
    "duration": 3,
    "start_time": "2025-02-24T07:51:08.848Z"
   },
   {
    "duration": 15,
    "start_time": "2025-02-24T07:51:08.853Z"
   },
   {
    "duration": 673,
    "start_time": "2025-02-24T07:51:08.870Z"
   },
   {
    "duration": 12,
    "start_time": "2025-02-24T07:51:09.546Z"
   },
   {
    "duration": 218,
    "start_time": "2025-02-24T07:51:09.560Z"
   },
   {
    "duration": 203,
    "start_time": "2025-02-24T07:51:09.780Z"
   },
   {
    "duration": 250,
    "start_time": "2025-02-24T07:51:09.985Z"
   },
   {
    "duration": 202,
    "start_time": "2025-02-24T07:51:10.237Z"
   },
   {
    "duration": 50,
    "start_time": "2025-02-24T10:33:11.524Z"
   },
   {
    "duration": 506,
    "start_time": "2025-02-24T10:33:16.998Z"
   },
   {
    "duration": 24,
    "start_time": "2025-02-24T10:33:17.506Z"
   },
   {
    "duration": 18,
    "start_time": "2025-02-24T10:33:17.532Z"
   },
   {
    "duration": 12,
    "start_time": "2025-02-24T10:33:17.553Z"
   },
   {
    "duration": 65,
    "start_time": "2025-02-24T10:33:17.567Z"
   },
   {
    "duration": 4,
    "start_time": "2025-02-24T10:33:17.633Z"
   },
   {
    "duration": 54,
    "start_time": "2025-02-24T10:33:17.639Z"
   },
   {
    "duration": 23,
    "start_time": "2025-02-24T10:33:17.695Z"
   },
   {
    "duration": 10,
    "start_time": "2025-02-24T10:33:17.720Z"
   },
   {
    "duration": 4,
    "start_time": "2025-02-24T10:33:17.733Z"
   },
   {
    "duration": 37,
    "start_time": "2025-02-24T10:33:17.738Z"
   },
   {
    "duration": 11,
    "start_time": "2025-02-24T10:33:17.777Z"
   },
   {
    "duration": 83,
    "start_time": "2025-02-24T10:33:17.802Z"
   },
   {
    "duration": 160,
    "start_time": "2025-02-24T10:33:17.887Z"
   },
   {
    "duration": 31,
    "start_time": "2025-02-24T10:33:18.049Z"
   },
   {
    "duration": 18,
    "start_time": "2025-02-24T10:33:18.081Z"
   },
   {
    "duration": 4,
    "start_time": "2025-02-24T10:33:18.101Z"
   },
   {
    "duration": 24,
    "start_time": "2025-02-24T10:33:18.106Z"
   },
   {
    "duration": 6,
    "start_time": "2025-02-24T10:33:18.131Z"
   },
   {
    "duration": 3,
    "start_time": "2025-02-24T10:33:18.138Z"
   },
   {
    "duration": 15,
    "start_time": "2025-02-24T10:33:18.143Z"
   },
   {
    "duration": 704,
    "start_time": "2025-02-24T10:33:18.159Z"
   },
   {
    "duration": 10,
    "start_time": "2025-02-24T10:33:18.865Z"
   },
   {
    "duration": 136,
    "start_time": "2025-02-24T10:33:18.876Z"
   },
   {
    "duration": 9,
    "start_time": "2025-02-24T10:33:23.182Z"
   },
   {
    "duration": 12,
    "start_time": "2025-02-24T10:33:32.330Z"
   },
   {
    "duration": 1347,
    "start_time": "2025-02-24T10:40:55.335Z"
   },
   {
    "duration": 15,
    "start_time": "2025-02-24T10:43:36.841Z"
   },
   {
    "duration": 108,
    "start_time": "2025-02-24T10:44:06.649Z"
   },
   {
    "duration": 12,
    "start_time": "2025-02-24T10:44:16.715Z"
   },
   {
    "duration": 1432,
    "start_time": "2025-02-24T10:47:07.591Z"
   },
   {
    "duration": 13,
    "start_time": "2025-02-24T10:47:59.951Z"
   },
   {
    "duration": 20,
    "start_time": "2025-02-24T10:57:26.950Z"
   },
   {
    "duration": 13,
    "start_time": "2025-02-24T10:57:33.519Z"
   },
   {
    "duration": 19,
    "start_time": "2025-02-24T10:58:39.330Z"
   },
   {
    "duration": 17,
    "start_time": "2025-02-24T11:03:48.041Z"
   },
   {
    "duration": 18,
    "start_time": "2025-02-24T11:04:17.201Z"
   },
   {
    "duration": 28,
    "start_time": "2025-02-24T11:05:53.126Z"
   },
   {
    "duration": 15,
    "start_time": "2025-02-24T11:06:08.166Z"
   },
   {
    "duration": 17,
    "start_time": "2025-02-24T11:06:14.430Z"
   },
   {
    "duration": 16,
    "start_time": "2025-02-24T11:06:23.451Z"
   },
   {
    "duration": 16,
    "start_time": "2025-02-24T11:06:54.243Z"
   },
   {
    "duration": 16,
    "start_time": "2025-02-24T11:07:09.575Z"
   },
   {
    "duration": 17,
    "start_time": "2025-02-24T11:07:47.925Z"
   },
   {
    "duration": 16,
    "start_time": "2025-02-24T11:08:23.583Z"
   },
   {
    "duration": 3,
    "start_time": "2025-02-24T11:08:35.139Z"
   },
   {
    "duration": 16,
    "start_time": "2025-02-24T11:08:38.734Z"
   },
   {
    "duration": 17,
    "start_time": "2025-02-24T11:09:35.783Z"
   },
   {
    "duration": 19,
    "start_time": "2025-02-24T11:10:15.570Z"
   },
   {
    "duration": 17,
    "start_time": "2025-02-24T11:53:35.299Z"
   },
   {
    "duration": 17,
    "start_time": "2025-02-24T11:54:52.614Z"
   },
   {
    "duration": 15,
    "start_time": "2025-02-24T11:55:58.672Z"
   },
   {
    "duration": 22,
    "start_time": "2025-02-24T11:56:05.373Z"
   },
   {
    "duration": 27,
    "start_time": "2025-02-24T11:56:18.268Z"
   },
   {
    "duration": 26,
    "start_time": "2025-02-24T11:56:25.212Z"
   },
   {
    "duration": 17,
    "start_time": "2025-02-24T11:56:34.537Z"
   },
   {
    "duration": 28,
    "start_time": "2025-02-24T11:57:23.934Z"
   },
   {
    "duration": 94,
    "start_time": "2025-02-24T11:58:20.542Z"
   },
   {
    "duration": 18,
    "start_time": "2025-02-24T11:58:43.099Z"
   },
   {
    "duration": 16,
    "start_time": "2025-02-24T11:59:57.615Z"
   },
   {
    "duration": 50,
    "start_time": "2025-02-24T12:03:19.738Z"
   },
   {
    "duration": 12,
    "start_time": "2025-02-24T12:04:51.471Z"
   },
   {
    "duration": 1394,
    "start_time": "2025-02-26T07:40:54.059Z"
   },
   {
    "duration": 19,
    "start_time": "2025-02-26T07:40:55.455Z"
   },
   {
    "duration": 475,
    "start_time": "2025-02-26T07:40:55.475Z"
   },
   {
    "duration": 289,
    "start_time": "2025-02-26T07:40:55.952Z"
   },
   {
    "duration": 41,
    "start_time": "2025-02-26T07:40:56.243Z"
   },
   {
    "duration": 3,
    "start_time": "2025-02-26T07:40:56.286Z"
   },
   {
    "duration": 29,
    "start_time": "2025-02-26T07:40:56.291Z"
   },
   {
    "duration": 20,
    "start_time": "2025-02-26T07:40:56.322Z"
   },
   {
    "duration": 11,
    "start_time": "2025-02-26T07:40:56.343Z"
   },
   {
    "duration": 356,
    "start_time": "2025-02-26T07:40:56.357Z"
   },
   {
    "duration": 78,
    "start_time": "2025-02-26T07:40:56.714Z"
   },
   {
    "duration": 50,
    "start_time": "2025-02-26T07:40:56.793Z"
   },
   {
    "duration": 5,
    "start_time": "2025-02-26T07:40:56.845Z"
   },
   {
    "duration": 17,
    "start_time": "2025-02-26T07:40:56.852Z"
   },
   {
    "duration": 33,
    "start_time": "2025-02-26T07:40:56.871Z"
   },
   {
    "duration": 24,
    "start_time": "2025-02-26T07:40:56.905Z"
   },
   {
    "duration": 3,
    "start_time": "2025-02-26T07:40:56.931Z"
   },
   {
    "duration": 48,
    "start_time": "2025-02-26T07:40:56.936Z"
   },
   {
    "duration": 31,
    "start_time": "2025-02-26T07:40:56.986Z"
   },
   {
    "duration": 40,
    "start_time": "2025-02-26T07:40:57.019Z"
   },
   {
    "duration": 36,
    "start_time": "2025-02-26T07:40:57.061Z"
   },
   {
    "duration": 194,
    "start_time": "2025-02-26T07:40:57.099Z"
   },
   {
    "duration": 8,
    "start_time": "2025-02-26T07:40:57.295Z"
   },
   {
    "duration": 20,
    "start_time": "2025-02-26T07:41:01.705Z"
   },
   {
    "duration": 5,
    "start_time": "2025-02-26T07:46:26.377Z"
   },
   {
    "duration": 7,
    "start_time": "2025-02-26T07:46:49.273Z"
   },
   {
    "duration": 6,
    "start_time": "2025-02-26T07:47:49.582Z"
   },
   {
    "duration": 6,
    "start_time": "2025-02-26T07:47:54.030Z"
   },
   {
    "duration": 14,
    "start_time": "2025-02-26T07:51:30.627Z"
   },
   {
    "duration": 453,
    "start_time": "2025-02-26T07:54:26.894Z"
   },
   {
    "duration": 14,
    "start_time": "2025-02-26T07:57:28.762Z"
   },
   {
    "duration": 10,
    "start_time": "2025-02-26T07:59:27.098Z"
   },
   {
    "duration": 12,
    "start_time": "2025-02-26T07:59:43.789Z"
   },
   {
    "duration": 11,
    "start_time": "2025-02-26T08:00:30.004Z"
   },
   {
    "duration": 9,
    "start_time": "2025-02-26T08:00:50.703Z"
   },
   {
    "duration": 8,
    "start_time": "2025-02-26T08:01:02.822Z"
   },
   {
    "duration": 14,
    "start_time": "2025-02-26T08:01:30.749Z"
   },
   {
    "duration": 6,
    "start_time": "2025-02-26T08:02:31.627Z"
   },
   {
    "duration": 6,
    "start_time": "2025-02-26T08:14:46.921Z"
   },
   {
    "duration": 7,
    "start_time": "2025-02-26T08:15:09.349Z"
   },
   {
    "duration": 7,
    "start_time": "2025-02-26T08:15:28.004Z"
   },
   {
    "duration": 8,
    "start_time": "2025-02-26T08:16:05.868Z"
   },
   {
    "duration": 7,
    "start_time": "2025-02-26T08:25:39.305Z"
   },
   {
    "duration": 13,
    "start_time": "2025-02-26T08:29:42.310Z"
   },
   {
    "duration": 20,
    "start_time": "2025-02-26T08:30:48.092Z"
   },
   {
    "duration": 21,
    "start_time": "2025-02-26T08:31:19.731Z"
   },
   {
    "duration": 21,
    "start_time": "2025-02-26T08:32:20.057Z"
   },
   {
    "duration": 14,
    "start_time": "2025-02-26T08:48:23.446Z"
   },
   {
    "duration": 20,
    "start_time": "2025-02-26T08:48:29.854Z"
   },
   {
    "duration": 49,
    "start_time": "2025-02-27T18:40:16.716Z"
   },
   {
    "duration": 1569,
    "start_time": "2025-02-27T18:40:22.872Z"
   },
   {
    "duration": 21,
    "start_time": "2025-02-27T18:40:24.444Z"
   },
   {
    "duration": 24,
    "start_time": "2025-02-27T18:40:24.466Z"
   },
   {
    "duration": 13,
    "start_time": "2025-02-27T18:40:24.492Z"
   },
   {
    "duration": 40,
    "start_time": "2025-02-27T18:40:24.507Z"
   },
   {
    "duration": 5,
    "start_time": "2025-02-27T18:40:24.560Z"
   },
   {
    "duration": 27,
    "start_time": "2025-02-27T18:40:24.566Z"
   },
   {
    "duration": 25,
    "start_time": "2025-02-27T18:40:24.595Z"
   },
   {
    "duration": 15,
    "start_time": "2025-02-27T18:40:24.621Z"
   },
   {
    "duration": 4,
    "start_time": "2025-02-27T18:40:24.638Z"
   },
   {
    "duration": 43,
    "start_time": "2025-02-27T18:40:24.644Z"
   },
   {
    "duration": 11,
    "start_time": "2025-02-27T18:40:24.688Z"
   },
   {
    "duration": 8,
    "start_time": "2025-02-27T18:40:24.701Z"
   },
   {
    "duration": 14,
    "start_time": "2025-02-27T18:40:24.711Z"
   },
   {
    "duration": 40,
    "start_time": "2025-02-27T18:40:24.727Z"
   },
   {
    "duration": 16,
    "start_time": "2025-02-27T18:40:24.769Z"
   },
   {
    "duration": 3,
    "start_time": "2025-02-27T18:40:24.787Z"
   },
   {
    "duration": 26,
    "start_time": "2025-02-27T18:40:24.791Z"
   },
   {
    "duration": 8,
    "start_time": "2025-02-27T18:40:24.819Z"
   },
   {
    "duration": 5,
    "start_time": "2025-02-27T18:40:24.829Z"
   },
   {
    "duration": 15,
    "start_time": "2025-02-27T18:40:24.835Z"
   },
   {
    "duration": 202,
    "start_time": "2025-02-27T18:40:24.851Z"
   },
   {
    "duration": 30,
    "start_time": "2025-02-27T18:40:25.054Z"
   },
   {
    "duration": 9,
    "start_time": "2025-02-27T18:40:25.085Z"
   },
   {
    "duration": 24,
    "start_time": "2025-02-27T18:40:25.096Z"
   },
   {
    "duration": 25,
    "start_time": "2025-02-27T18:40:25.121Z"
   },
   {
    "duration": 200,
    "start_time": "2025-02-27T18:40:25.147Z"
   },
   {
    "duration": 181,
    "start_time": "2025-02-27T18:40:25.349Z"
   },
   {
    "duration": 166,
    "start_time": "2025-02-27T18:40:25.531Z"
   },
   {
    "duration": 24,
    "start_time": "2025-02-27T18:40:25.698Z"
   },
   {
    "duration": 21,
    "start_time": "2025-02-27T18:40:53.756Z"
   },
   {
    "duration": 23,
    "start_time": "2025-02-27T19:22:22.502Z"
   },
   {
    "duration": 23,
    "start_time": "2025-02-27T19:23:06.202Z"
   },
   {
    "duration": 1360,
    "start_time": "2025-02-28T06:53:02.655Z"
   },
   {
    "duration": 18,
    "start_time": "2025-02-28T06:53:04.018Z"
   },
   {
    "duration": 19,
    "start_time": "2025-02-28T06:53:04.038Z"
   },
   {
    "duration": 10,
    "start_time": "2025-02-28T06:53:04.059Z"
   },
   {
    "duration": 47,
    "start_time": "2025-02-28T06:53:04.071Z"
   },
   {
    "duration": 3,
    "start_time": "2025-02-28T06:53:04.120Z"
   },
   {
    "duration": 40,
    "start_time": "2025-02-28T06:53:04.125Z"
   },
   {
    "duration": 31,
    "start_time": "2025-02-28T06:53:04.166Z"
   },
   {
    "duration": 7,
    "start_time": "2025-02-28T06:53:04.198Z"
   },
   {
    "duration": 10,
    "start_time": "2025-02-28T06:53:04.206Z"
   },
   {
    "duration": 55,
    "start_time": "2025-02-28T06:53:04.217Z"
   },
   {
    "duration": 9,
    "start_time": "2025-02-28T06:53:04.274Z"
   },
   {
    "duration": 12,
    "start_time": "2025-02-28T06:53:04.285Z"
   },
   {
    "duration": 31,
    "start_time": "2025-02-28T06:53:04.300Z"
   },
   {
    "duration": 133,
    "start_time": "2025-02-28T06:53:04.333Z"
   },
   {
    "duration": 29,
    "start_time": "2025-02-28T06:53:04.467Z"
   },
   {
    "duration": 4,
    "start_time": "2025-02-28T06:53:04.498Z"
   },
   {
    "duration": 29,
    "start_time": "2025-02-28T06:53:04.504Z"
   },
   {
    "duration": 35,
    "start_time": "2025-02-28T06:53:04.535Z"
   },
   {
    "duration": 6,
    "start_time": "2025-02-28T06:53:04.571Z"
   },
   {
    "duration": 20,
    "start_time": "2025-02-28T06:53:04.578Z"
   },
   {
    "duration": 202,
    "start_time": "2025-02-28T06:53:04.600Z"
   },
   {
    "duration": 23,
    "start_time": "2025-02-28T06:53:04.809Z"
   },
   {
    "duration": 16,
    "start_time": "2025-02-28T06:53:04.834Z"
   },
   {
    "duration": 12,
    "start_time": "2025-02-28T06:53:04.852Z"
   },
   {
    "duration": 25,
    "start_time": "2025-02-28T06:53:04.866Z"
   },
   {
    "duration": 190,
    "start_time": "2025-02-28T06:53:04.892Z"
   },
   {
    "duration": 181,
    "start_time": "2025-02-28T06:53:05.084Z"
   },
   {
    "duration": 166,
    "start_time": "2025-02-28T06:53:05.266Z"
   },
   {
    "duration": 24,
    "start_time": "2025-02-28T06:53:05.433Z"
   },
   {
    "duration": 191,
    "start_time": "2025-02-28T06:53:05.458Z"
   },
   {
    "duration": 24,
    "start_time": "2025-02-28T06:53:05.651Z"
   },
   {
    "duration": 5,
    "start_time": "2025-02-28T06:55:34.265Z"
   },
   {
    "duration": 33,
    "start_time": "2025-02-28T06:55:35.906Z"
   },
   {
    "duration": 18,
    "start_time": "2025-02-28T06:56:50.961Z"
   },
   {
    "duration": 16,
    "start_time": "2025-02-28T06:58:45.862Z"
   },
   {
    "duration": 16,
    "start_time": "2025-02-28T07:00:39.978Z"
   },
   {
    "duration": 15,
    "start_time": "2025-02-28T07:01:40.842Z"
   },
   {
    "duration": 19,
    "start_time": "2025-02-28T07:02:39.677Z"
   },
   {
    "duration": 21,
    "start_time": "2025-02-28T07:03:49.249Z"
   },
   {
    "duration": 19,
    "start_time": "2025-02-28T07:47:27.061Z"
   },
   {
    "duration": 18,
    "start_time": "2025-02-28T07:48:18.231Z"
   },
   {
    "duration": 21,
    "start_time": "2025-02-28T07:48:51.489Z"
   },
   {
    "duration": 3,
    "start_time": "2025-02-28T07:51:39.760Z"
   },
   {
    "duration": 16,
    "start_time": "2025-02-28T07:55:13.844Z"
   },
   {
    "duration": 13,
    "start_time": "2025-02-28T07:55:36.571Z"
   },
   {
    "duration": 14,
    "start_time": "2025-02-28T07:56:48.108Z"
   },
   {
    "duration": 66,
    "start_time": "2025-02-28T07:58:15.351Z"
   },
   {
    "duration": 15,
    "start_time": "2025-02-28T07:58:15.419Z"
   },
   {
    "duration": 49,
    "start_time": "2025-02-28T07:58:15.435Z"
   },
   {
    "duration": 40,
    "start_time": "2025-02-28T07:58:15.486Z"
   },
   {
    "duration": 61,
    "start_time": "2025-02-28T07:58:15.528Z"
   },
   {
    "duration": 3,
    "start_time": "2025-02-28T07:58:15.591Z"
   },
   {
    "duration": 45,
    "start_time": "2025-02-28T07:58:15.596Z"
   },
   {
    "duration": 20,
    "start_time": "2025-02-28T07:58:15.643Z"
   },
   {
    "duration": 39,
    "start_time": "2025-02-28T07:58:15.664Z"
   },
   {
    "duration": 21,
    "start_time": "2025-02-28T07:58:15.705Z"
   },
   {
    "duration": 40,
    "start_time": "2025-02-28T07:58:15.727Z"
   },
   {
    "duration": 10,
    "start_time": "2025-02-28T07:58:15.768Z"
   },
   {
    "duration": 15,
    "start_time": "2025-02-28T07:58:15.780Z"
   },
   {
    "duration": 28,
    "start_time": "2025-02-28T07:58:15.798Z"
   },
   {
    "duration": 24,
    "start_time": "2025-02-28T07:58:15.828Z"
   },
   {
    "duration": 18,
    "start_time": "2025-02-28T07:58:15.853Z"
   },
   {
    "duration": 4,
    "start_time": "2025-02-28T07:58:15.872Z"
   },
   {
    "duration": 44,
    "start_time": "2025-02-28T07:58:15.877Z"
   },
   {
    "duration": 15,
    "start_time": "2025-02-28T07:58:15.922Z"
   },
   {
    "duration": 7,
    "start_time": "2025-02-28T07:58:15.938Z"
   },
   {
    "duration": 25,
    "start_time": "2025-02-28T07:58:15.947Z"
   },
   {
    "duration": 173,
    "start_time": "2025-02-28T07:58:15.973Z"
   },
   {
    "duration": 4,
    "start_time": "2025-02-28T07:58:16.148Z"
   },
   {
    "duration": 40,
    "start_time": "2025-02-28T07:58:16.154Z"
   },
   {
    "duration": 7,
    "start_time": "2025-02-28T07:58:16.195Z"
   },
   {
    "duration": 14,
    "start_time": "2025-02-28T07:58:16.204Z"
   },
   {
    "duration": 40,
    "start_time": "2025-02-28T07:58:16.219Z"
   },
   {
    "duration": 178,
    "start_time": "2025-02-28T07:58:16.261Z"
   },
   {
    "duration": 18,
    "start_time": "2025-02-28T07:58:16.441Z"
   },
   {
    "duration": 168,
    "start_time": "2025-02-28T07:58:16.461Z"
   },
   {
    "duration": 164,
    "start_time": "2025-02-28T07:58:16.631Z"
   },
   {
    "duration": 23,
    "start_time": "2025-02-28T07:58:16.796Z"
   },
   {
    "duration": 257,
    "start_time": "2025-02-28T07:58:16.821Z"
   },
   {
    "duration": 31,
    "start_time": "2025-02-28T07:58:17.079Z"
   },
   {
    "duration": 15,
    "start_time": "2025-02-28T07:58:50.368Z"
   },
   {
    "duration": 13,
    "start_time": "2025-02-28T07:59:05.758Z"
   },
   {
    "duration": 117,
    "start_time": "2025-02-28T08:02:01.909Z"
   },
   {
    "duration": 35,
    "start_time": "2025-02-28T08:02:44.058Z"
   },
   {
    "duration": 268,
    "start_time": "2025-02-28T08:12:40.117Z"
   },
   {
    "duration": 9,
    "start_time": "2025-02-28T08:14:54.057Z"
   },
   {
    "duration": 8,
    "start_time": "2025-02-28T08:15:44.465Z"
   },
   {
    "duration": 9,
    "start_time": "2025-02-28T08:18:55.109Z"
   },
   {
    "duration": 64,
    "start_time": "2025-02-28T08:19:08.889Z"
   },
   {
    "duration": 17,
    "start_time": "2025-02-28T08:19:08.955Z"
   },
   {
    "duration": 40,
    "start_time": "2025-02-28T08:19:08.974Z"
   },
   {
    "duration": 10,
    "start_time": "2025-02-28T08:19:09.016Z"
   },
   {
    "duration": 39,
    "start_time": "2025-02-28T08:19:09.028Z"
   },
   {
    "duration": 3,
    "start_time": "2025-02-28T08:19:09.069Z"
   },
   {
    "duration": 88,
    "start_time": "2025-02-28T08:19:09.073Z"
   },
   {
    "duration": 91,
    "start_time": "2025-02-28T08:19:09.162Z"
   },
   {
    "duration": 32,
    "start_time": "2025-02-28T08:19:09.255Z"
   },
   {
    "duration": 4,
    "start_time": "2025-02-28T08:19:09.289Z"
   },
   {
    "duration": 36,
    "start_time": "2025-02-28T08:19:09.295Z"
   },
   {
    "duration": 10,
    "start_time": "2025-02-28T08:19:09.332Z"
   },
   {
    "duration": 5,
    "start_time": "2025-02-28T08:19:09.344Z"
   },
   {
    "duration": 10,
    "start_time": "2025-02-28T08:19:09.352Z"
   },
   {
    "duration": 19,
    "start_time": "2025-02-28T08:19:09.363Z"
   },
   {
    "duration": 41,
    "start_time": "2025-02-28T08:19:09.384Z"
   },
   {
    "duration": 36,
    "start_time": "2025-02-28T08:19:09.426Z"
   },
   {
    "duration": 10,
    "start_time": "2025-02-28T08:19:09.464Z"
   },
   {
    "duration": 5,
    "start_time": "2025-02-28T08:19:09.476Z"
   },
   {
    "duration": 3,
    "start_time": "2025-02-28T08:19:09.482Z"
   },
   {
    "duration": 12,
    "start_time": "2025-02-28T08:19:09.486Z"
   },
   {
    "duration": 170,
    "start_time": "2025-02-28T08:19:09.499Z"
   },
   {
    "duration": 5,
    "start_time": "2025-02-28T08:19:09.670Z"
   },
   {
    "duration": 37,
    "start_time": "2025-02-28T08:19:09.676Z"
   },
   {
    "duration": 8,
    "start_time": "2025-02-28T08:19:09.714Z"
   },
   {
    "duration": 19,
    "start_time": "2025-02-28T08:19:09.723Z"
   },
   {
    "duration": 17,
    "start_time": "2025-02-28T08:19:09.743Z"
   },
   {
    "duration": 201,
    "start_time": "2025-02-28T08:19:09.762Z"
   },
   {
    "duration": 19,
    "start_time": "2025-02-28T08:19:09.965Z"
   },
   {
    "duration": 47,
    "start_time": "2025-02-28T08:19:09.986Z"
   },
   {
    "duration": 286,
    "start_time": "2025-02-28T08:19:10.034Z"
   },
   {
    "duration": 9,
    "start_time": "2025-02-28T08:19:10.321Z"
   },
   {
    "duration": 0,
    "start_time": "2025-02-28T08:19:10.332Z"
   },
   {
    "duration": 0,
    "start_time": "2025-02-28T08:19:10.333Z"
   },
   {
    "duration": 0,
    "start_time": "2025-02-28T08:19:10.335Z"
   },
   {
    "duration": 0,
    "start_time": "2025-02-28T08:19:10.336Z"
   },
   {
    "duration": 9,
    "start_time": "2025-02-28T08:20:31.850Z"
   },
   {
    "duration": 64,
    "start_time": "2025-02-28T08:20:36.906Z"
   },
   {
    "duration": 15,
    "start_time": "2025-02-28T08:20:36.972Z"
   },
   {
    "duration": 35,
    "start_time": "2025-02-28T08:20:36.988Z"
   },
   {
    "duration": 38,
    "start_time": "2025-02-28T08:20:37.024Z"
   },
   {
    "duration": 35,
    "start_time": "2025-02-28T08:20:37.064Z"
   },
   {
    "duration": 47,
    "start_time": "2025-02-28T08:20:37.100Z"
   },
   {
    "duration": 93,
    "start_time": "2025-02-28T08:20:37.149Z"
   },
   {
    "duration": 33,
    "start_time": "2025-02-28T08:20:37.244Z"
   },
   {
    "duration": 34,
    "start_time": "2025-02-28T08:20:37.278Z"
   },
   {
    "duration": 31,
    "start_time": "2025-02-28T08:20:37.313Z"
   },
   {
    "duration": 42,
    "start_time": "2025-02-28T08:20:37.346Z"
   },
   {
    "duration": 10,
    "start_time": "2025-02-28T08:20:37.389Z"
   },
   {
    "duration": 69,
    "start_time": "2025-02-28T08:20:37.401Z"
   },
   {
    "duration": 49,
    "start_time": "2025-02-28T08:20:37.473Z"
   },
   {
    "duration": 54,
    "start_time": "2025-02-28T08:20:37.524Z"
   },
   {
    "duration": 17,
    "start_time": "2025-02-28T08:20:37.580Z"
   },
   {
    "duration": 4,
    "start_time": "2025-02-28T08:20:37.598Z"
   },
   {
    "duration": 41,
    "start_time": "2025-02-28T08:20:37.603Z"
   },
   {
    "duration": 13,
    "start_time": "2025-02-28T08:20:37.646Z"
   },
   {
    "duration": 7,
    "start_time": "2025-02-28T08:20:37.661Z"
   },
   {
    "duration": 13,
    "start_time": "2025-02-28T08:20:37.669Z"
   },
   {
    "duration": 185,
    "start_time": "2025-02-28T08:20:37.683Z"
   },
   {
    "duration": 4,
    "start_time": "2025-02-28T08:20:37.870Z"
   },
   {
    "duration": 23,
    "start_time": "2025-02-28T08:20:37.876Z"
   },
   {
    "duration": 8,
    "start_time": "2025-02-28T08:20:37.909Z"
   },
   {
    "duration": 14,
    "start_time": "2025-02-28T08:20:37.918Z"
   },
   {
    "duration": 33,
    "start_time": "2025-02-28T08:20:37.934Z"
   },
   {
    "duration": 183,
    "start_time": "2025-02-28T08:20:37.969Z"
   },
   {
    "duration": 19,
    "start_time": "2025-02-28T08:20:38.154Z"
   },
   {
    "duration": 14,
    "start_time": "2025-02-28T08:20:38.175Z"
   },
   {
    "duration": 265,
    "start_time": "2025-02-28T08:20:38.210Z"
   },
   {
    "duration": 10,
    "start_time": "2025-02-28T08:20:38.477Z"
   },
   {
    "duration": 0,
    "start_time": "2025-02-28T08:20:38.508Z"
   },
   {
    "duration": 1,
    "start_time": "2025-02-28T08:20:38.509Z"
   },
   {
    "duration": 0,
    "start_time": "2025-02-28T08:20:38.511Z"
   },
   {
    "duration": 0,
    "start_time": "2025-02-28T08:20:38.513Z"
   },
   {
    "duration": 11,
    "start_time": "2025-02-28T08:23:45.805Z"
   },
   {
    "duration": 65,
    "start_time": "2025-02-28T08:23:58.698Z"
   },
   {
    "duration": 15,
    "start_time": "2025-02-28T08:23:58.765Z"
   },
   {
    "duration": 39,
    "start_time": "2025-02-28T08:23:58.782Z"
   },
   {
    "duration": 17,
    "start_time": "2025-02-28T08:23:58.823Z"
   },
   {
    "duration": 47,
    "start_time": "2025-02-28T08:23:58.843Z"
   },
   {
    "duration": 3,
    "start_time": "2025-02-28T08:23:58.911Z"
   },
   {
    "duration": 37,
    "start_time": "2025-02-28T08:23:58.916Z"
   },
   {
    "duration": 5,
    "start_time": "2025-02-28T08:23:58.955Z"
   },
   {
    "duration": 6,
    "start_time": "2025-02-28T08:23:58.961Z"
   },
   {
    "duration": 4,
    "start_time": "2025-02-28T08:23:58.969Z"
   },
   {
    "duration": 41,
    "start_time": "2025-02-28T08:23:58.974Z"
   },
   {
    "duration": 10,
    "start_time": "2025-02-28T08:23:59.017Z"
   },
   {
    "duration": 11,
    "start_time": "2025-02-28T08:23:59.028Z"
   },
   {
    "duration": 10,
    "start_time": "2025-02-28T08:23:59.042Z"
   },
   {
    "duration": 28,
    "start_time": "2025-02-28T08:23:59.054Z"
   },
   {
    "duration": 25,
    "start_time": "2025-02-28T08:23:59.084Z"
   },
   {
    "duration": 16,
    "start_time": "2025-02-28T08:23:59.111Z"
   },
   {
    "duration": 13,
    "start_time": "2025-02-28T08:23:59.128Z"
   },
   {
    "duration": 21,
    "start_time": "2025-02-28T08:23:59.142Z"
   },
   {
    "duration": 32,
    "start_time": "2025-02-28T08:23:59.165Z"
   },
   {
    "duration": 80,
    "start_time": "2025-02-28T08:23:59.199Z"
   },
   {
    "duration": 159,
    "start_time": "2025-02-28T08:23:59.281Z"
   },
   {
    "duration": 5,
    "start_time": "2025-02-28T08:23:59.441Z"
   },
   {
    "duration": 43,
    "start_time": "2025-02-28T08:23:59.447Z"
   },
   {
    "duration": 6,
    "start_time": "2025-02-28T08:23:59.492Z"
   },
   {
    "duration": 21,
    "start_time": "2025-02-28T08:23:59.500Z"
   },
   {
    "duration": 15,
    "start_time": "2025-02-28T08:23:59.523Z"
   },
   {
    "duration": 183,
    "start_time": "2025-02-28T08:23:59.539Z"
   },
   {
    "duration": 19,
    "start_time": "2025-02-28T08:23:59.723Z"
   },
   {
    "duration": 22,
    "start_time": "2025-02-28T08:23:59.743Z"
   },
   {
    "duration": 15,
    "start_time": "2025-02-28T08:23:59.767Z"
   },
   {
    "duration": 387,
    "start_time": "2025-02-28T08:23:59.783Z"
   },
   {
    "duration": 10,
    "start_time": "2025-02-28T08:24:00.172Z"
   },
   {
    "duration": 0,
    "start_time": "2025-02-28T08:24:00.183Z"
   },
   {
    "duration": 0,
    "start_time": "2025-02-28T08:24:00.185Z"
   },
   {
    "duration": 0,
    "start_time": "2025-02-28T08:24:00.186Z"
   },
   {
    "duration": 0,
    "start_time": "2025-02-28T08:24:00.209Z"
   },
   {
    "duration": 66,
    "start_time": "2025-02-28T08:25:09.667Z"
   },
   {
    "duration": 15,
    "start_time": "2025-02-28T08:25:09.735Z"
   },
   {
    "duration": 15,
    "start_time": "2025-02-28T08:25:09.751Z"
   },
   {
    "duration": 18,
    "start_time": "2025-02-28T08:25:09.767Z"
   },
   {
    "duration": 52,
    "start_time": "2025-02-28T08:25:09.787Z"
   },
   {
    "duration": 3,
    "start_time": "2025-02-28T08:25:09.841Z"
   },
   {
    "duration": 29,
    "start_time": "2025-02-28T08:25:09.846Z"
   },
   {
    "duration": 4,
    "start_time": "2025-02-28T08:25:09.877Z"
   },
   {
    "duration": 11,
    "start_time": "2025-02-28T08:25:09.882Z"
   },
   {
    "duration": 10,
    "start_time": "2025-02-28T08:25:09.895Z"
   },
   {
    "duration": 50,
    "start_time": "2025-02-28T08:25:09.906Z"
   },
   {
    "duration": 11,
    "start_time": "2025-02-28T08:25:09.958Z"
   },
   {
    "duration": 10,
    "start_time": "2025-02-28T08:25:09.970Z"
   },
   {
    "duration": 10,
    "start_time": "2025-02-28T08:25:09.983Z"
   },
   {
    "duration": 28,
    "start_time": "2025-02-28T08:25:09.995Z"
   },
   {
    "duration": 16,
    "start_time": "2025-02-28T08:25:10.025Z"
   },
   {
    "duration": 3,
    "start_time": "2025-02-28T08:25:10.043Z"
   },
   {
    "duration": 48,
    "start_time": "2025-02-28T08:25:10.048Z"
   },
   {
    "duration": 26,
    "start_time": "2025-02-28T08:25:10.098Z"
   },
   {
    "duration": 17,
    "start_time": "2025-02-28T08:25:10.125Z"
   },
   {
    "duration": 16,
    "start_time": "2025-02-28T08:25:10.144Z"
   },
   {
    "duration": 159,
    "start_time": "2025-02-28T08:25:10.162Z"
   },
   {
    "duration": 5,
    "start_time": "2025-02-28T08:25:10.322Z"
   },
   {
    "duration": 55,
    "start_time": "2025-02-28T08:25:10.328Z"
   },
   {
    "duration": 6,
    "start_time": "2025-02-28T08:25:10.384Z"
   },
   {
    "duration": 23,
    "start_time": "2025-02-28T08:25:10.392Z"
   },
   {
    "duration": 20,
    "start_time": "2025-02-28T08:25:10.416Z"
   },
   {
    "duration": 174,
    "start_time": "2025-02-28T08:25:10.438Z"
   },
   {
    "duration": 18,
    "start_time": "2025-02-28T08:25:10.613Z"
   },
   {
    "duration": 12,
    "start_time": "2025-02-28T08:25:10.633Z"
   },
   {
    "duration": 274,
    "start_time": "2025-02-28T08:25:10.646Z"
   },
   {
    "duration": 10,
    "start_time": "2025-02-28T08:25:10.921Z"
   },
   {
    "duration": 0,
    "start_time": "2025-02-28T08:25:10.932Z"
   },
   {
    "duration": 0,
    "start_time": "2025-02-28T08:25:10.933Z"
   },
   {
    "duration": 0,
    "start_time": "2025-02-28T08:25:10.934Z"
   },
   {
    "duration": 0,
    "start_time": "2025-02-28T08:25:10.935Z"
   },
   {
    "duration": 65,
    "start_time": "2025-02-28T08:25:50.513Z"
   },
   {
    "duration": 15,
    "start_time": "2025-02-28T08:25:50.580Z"
   },
   {
    "duration": 15,
    "start_time": "2025-02-28T08:25:50.609Z"
   },
   {
    "duration": 10,
    "start_time": "2025-02-28T08:25:50.625Z"
   },
   {
    "duration": 36,
    "start_time": "2025-02-28T08:25:50.637Z"
   },
   {
    "duration": 3,
    "start_time": "2025-02-28T08:25:50.675Z"
   },
   {
    "duration": 34,
    "start_time": "2025-02-28T08:25:50.680Z"
   },
   {
    "duration": 52,
    "start_time": "2025-02-28T08:25:50.715Z"
   },
   {
    "duration": 29,
    "start_time": "2025-02-28T08:25:50.769Z"
   },
   {
    "duration": 8,
    "start_time": "2025-02-28T08:25:50.800Z"
   },
   {
    "duration": 45,
    "start_time": "2025-02-28T08:25:50.809Z"
   },
   {
    "duration": 11,
    "start_time": "2025-02-28T08:25:50.855Z"
   },
   {
    "duration": 28,
    "start_time": "2025-02-28T08:25:50.867Z"
   },
   {
    "duration": 12,
    "start_time": "2025-02-28T08:25:50.898Z"
   },
   {
    "duration": 35,
    "start_time": "2025-02-28T08:25:50.911Z"
   },
   {
    "duration": 28,
    "start_time": "2025-02-28T08:25:50.948Z"
   },
   {
    "duration": 3,
    "start_time": "2025-02-28T08:25:50.977Z"
   },
   {
    "duration": 11,
    "start_time": "2025-02-28T08:25:50.982Z"
   },
   {
    "duration": 42,
    "start_time": "2025-02-28T08:25:50.994Z"
   },
   {
    "duration": 5,
    "start_time": "2025-02-28T08:25:51.037Z"
   },
   {
    "duration": 17,
    "start_time": "2025-02-28T08:25:51.043Z"
   },
   {
    "duration": 180,
    "start_time": "2025-02-28T08:25:51.062Z"
   },
   {
    "duration": 5,
    "start_time": "2025-02-28T08:25:51.244Z"
   },
   {
    "duration": 77,
    "start_time": "2025-02-28T08:25:51.251Z"
   },
   {
    "duration": 8,
    "start_time": "2025-02-28T08:25:51.330Z"
   },
   {
    "duration": 49,
    "start_time": "2025-02-28T08:25:51.339Z"
   },
   {
    "duration": 24,
    "start_time": "2025-02-28T08:25:51.390Z"
   },
   {
    "duration": 246,
    "start_time": "2025-02-28T08:25:51.416Z"
   },
   {
    "duration": 19,
    "start_time": "2025-02-28T08:25:51.664Z"
   },
   {
    "duration": 28,
    "start_time": "2025-02-28T08:25:51.685Z"
   },
   {
    "duration": 167,
    "start_time": "2025-02-28T08:25:51.714Z"
   },
   {
    "duration": 157,
    "start_time": "2025-02-28T08:25:51.883Z"
   },
   {
    "duration": 18,
    "start_time": "2025-02-28T08:25:52.041Z"
   },
   {
    "duration": 176,
    "start_time": "2025-02-28T08:25:52.061Z"
   },
   {
    "duration": 22,
    "start_time": "2025-02-28T08:25:52.239Z"
   },
   {
    "duration": 12,
    "start_time": "2025-02-28T08:37:42.208Z"
   },
   {
    "duration": 11,
    "start_time": "2025-02-28T08:38:32.076Z"
   },
   {
    "duration": 14,
    "start_time": "2025-02-28T08:38:36.079Z"
   },
   {
    "duration": 66,
    "start_time": "2025-02-28T08:39:11.628Z"
   },
   {
    "duration": 15,
    "start_time": "2025-02-28T08:39:11.696Z"
   },
   {
    "duration": 14,
    "start_time": "2025-02-28T08:39:11.713Z"
   },
   {
    "duration": 11,
    "start_time": "2025-02-28T08:39:11.729Z"
   },
   {
    "duration": 36,
    "start_time": "2025-02-28T08:39:11.742Z"
   },
   {
    "duration": 4,
    "start_time": "2025-02-28T08:39:11.779Z"
   },
   {
    "duration": 31,
    "start_time": "2025-02-28T08:39:11.784Z"
   },
   {
    "duration": 4,
    "start_time": "2025-02-28T08:39:11.816Z"
   },
   {
    "duration": 10,
    "start_time": "2025-02-28T08:39:11.822Z"
   },
   {
    "duration": 5,
    "start_time": "2025-02-28T08:39:11.833Z"
   },
   {
    "duration": 37,
    "start_time": "2025-02-28T08:39:11.839Z"
   },
   {
    "duration": 39,
    "start_time": "2025-02-28T08:39:11.878Z"
   },
   {
    "duration": 3,
    "start_time": "2025-02-28T08:39:11.919Z"
   },
   {
    "duration": 11,
    "start_time": "2025-02-28T08:39:11.925Z"
   },
   {
    "duration": 20,
    "start_time": "2025-02-28T08:39:11.937Z"
   },
   {
    "duration": 15,
    "start_time": "2025-02-28T08:39:11.959Z"
   },
   {
    "duration": 3,
    "start_time": "2025-02-28T08:39:11.976Z"
   },
   {
    "duration": 38,
    "start_time": "2025-02-28T08:39:11.980Z"
   },
   {
    "duration": 9,
    "start_time": "2025-02-28T08:39:12.020Z"
   },
   {
    "duration": 4,
    "start_time": "2025-02-28T08:39:12.030Z"
   },
   {
    "duration": 8,
    "start_time": "2025-02-28T08:39:12.035Z"
   },
   {
    "duration": 199,
    "start_time": "2025-02-28T08:39:12.045Z"
   },
   {
    "duration": 6,
    "start_time": "2025-02-28T08:39:12.246Z"
   },
   {
    "duration": 30,
    "start_time": "2025-02-28T08:39:12.254Z"
   },
   {
    "duration": 23,
    "start_time": "2025-02-28T08:39:12.286Z"
   },
   {
    "duration": 21,
    "start_time": "2025-02-28T08:39:12.311Z"
   },
   {
    "duration": 74,
    "start_time": "2025-02-28T08:39:12.334Z"
   },
   {
    "duration": 175,
    "start_time": "2025-02-28T08:39:12.409Z"
   },
   {
    "duration": 29,
    "start_time": "2025-02-28T08:39:12.586Z"
   },
   {
    "duration": 10,
    "start_time": "2025-02-28T08:39:12.616Z"
   },
   {
    "duration": 13,
    "start_time": "2025-02-28T08:39:12.627Z"
   },
   {
    "duration": 0,
    "start_time": "2025-02-28T08:39:12.641Z"
   },
   {
    "duration": 0,
    "start_time": "2025-02-28T08:39:12.642Z"
   },
   {
    "duration": 0,
    "start_time": "2025-02-28T08:39:12.643Z"
   },
   {
    "duration": 0,
    "start_time": "2025-02-28T08:39:12.645Z"
   },
   {
    "duration": 0,
    "start_time": "2025-02-28T08:39:12.646Z"
   },
   {
    "duration": 16,
    "start_time": "2025-02-28T08:39:48.697Z"
   },
   {
    "duration": 65,
    "start_time": "2025-02-28T08:39:55.001Z"
   },
   {
    "duration": 14,
    "start_time": "2025-02-28T08:39:55.068Z"
   },
   {
    "duration": 32,
    "start_time": "2025-02-28T08:39:55.084Z"
   },
   {
    "duration": 10,
    "start_time": "2025-02-28T08:39:55.118Z"
   },
   {
    "duration": 96,
    "start_time": "2025-02-28T08:39:55.130Z"
   },
   {
    "duration": 119,
    "start_time": "2025-02-28T08:39:55.227Z"
   },
   {
    "duration": 17,
    "start_time": "2025-02-28T08:39:55.348Z"
   },
   {
    "duration": 26,
    "start_time": "2025-02-28T08:39:55.367Z"
   },
   {
    "duration": 16,
    "start_time": "2025-02-28T08:39:55.395Z"
   },
   {
    "duration": 29,
    "start_time": "2025-02-28T08:39:55.412Z"
   },
   {
    "duration": 60,
    "start_time": "2025-02-28T08:39:55.442Z"
   },
   {
    "duration": 61,
    "start_time": "2025-02-28T08:39:55.503Z"
   },
   {
    "duration": 12,
    "start_time": "2025-02-28T08:39:55.565Z"
   },
   {
    "duration": 11,
    "start_time": "2025-02-28T08:39:55.673Z"
   },
   {
    "duration": 25,
    "start_time": "2025-02-28T08:39:55.685Z"
   },
   {
    "duration": 24,
    "start_time": "2025-02-28T08:39:55.711Z"
   },
   {
    "duration": 4,
    "start_time": "2025-02-28T08:39:55.736Z"
   },
   {
    "duration": 35,
    "start_time": "2025-02-28T08:39:55.741Z"
   },
   {
    "duration": 6,
    "start_time": "2025-02-28T08:39:55.778Z"
   },
   {
    "duration": 14,
    "start_time": "2025-02-28T08:39:55.785Z"
   },
   {
    "duration": 22,
    "start_time": "2025-02-28T08:39:55.800Z"
   },
   {
    "duration": 160,
    "start_time": "2025-02-28T08:39:55.824Z"
   },
   {
    "duration": 4,
    "start_time": "2025-02-28T08:39:55.986Z"
   },
   {
    "duration": 32,
    "start_time": "2025-02-28T08:39:55.992Z"
   },
   {
    "duration": 8,
    "start_time": "2025-02-28T08:39:56.025Z"
   },
   {
    "duration": 58,
    "start_time": "2025-02-28T08:39:56.034Z"
   },
   {
    "duration": 24,
    "start_time": "2025-02-28T08:39:56.094Z"
   },
   {
    "duration": 181,
    "start_time": "2025-02-28T08:39:56.119Z"
   },
   {
    "duration": 18,
    "start_time": "2025-02-28T08:39:56.309Z"
   },
   {
    "duration": 66,
    "start_time": "2025-02-28T08:39:56.329Z"
   },
   {
    "duration": 13,
    "start_time": "2025-02-28T08:39:56.397Z"
   },
   {
    "duration": 0,
    "start_time": "2025-02-28T08:39:56.411Z"
   },
   {
    "duration": 0,
    "start_time": "2025-02-28T08:39:56.412Z"
   },
   {
    "duration": 0,
    "start_time": "2025-02-28T08:39:56.413Z"
   },
   {
    "duration": 0,
    "start_time": "2025-02-28T08:39:56.414Z"
   },
   {
    "duration": 0,
    "start_time": "2025-02-28T08:39:56.415Z"
   },
   {
    "duration": 11,
    "start_time": "2025-02-28T08:41:07.999Z"
   },
   {
    "duration": 12,
    "start_time": "2025-02-28T08:41:12.137Z"
   },
   {
    "duration": 16,
    "start_time": "2025-02-28T08:41:42.989Z"
   },
   {
    "duration": 63,
    "start_time": "2025-02-28T08:42:24.142Z"
   },
   {
    "duration": 14,
    "start_time": "2025-02-28T08:42:24.207Z"
   },
   {
    "duration": 18,
    "start_time": "2025-02-28T08:42:24.223Z"
   },
   {
    "duration": 10,
    "start_time": "2025-02-28T08:42:24.243Z"
   },
   {
    "duration": 47,
    "start_time": "2025-02-28T08:42:24.255Z"
   },
   {
    "duration": 7,
    "start_time": "2025-02-28T08:42:24.304Z"
   },
   {
    "duration": 8,
    "start_time": "2025-02-28T08:42:24.313Z"
   },
   {
    "duration": 14,
    "start_time": "2025-02-28T08:42:24.323Z"
   },
   {
    "duration": 5,
    "start_time": "2025-02-28T08:42:24.338Z"
   },
   {
    "duration": 20,
    "start_time": "2025-02-28T08:42:24.345Z"
   },
   {
    "duration": 60,
    "start_time": "2025-02-28T08:42:24.366Z"
   },
   {
    "duration": 10,
    "start_time": "2025-02-28T08:42:24.428Z"
   },
   {
    "duration": 14,
    "start_time": "2025-02-28T08:42:24.439Z"
   },
   {
    "duration": 26,
    "start_time": "2025-02-28T08:42:24.456Z"
   },
   {
    "duration": 44,
    "start_time": "2025-02-28T08:42:24.484Z"
   },
   {
    "duration": 16,
    "start_time": "2025-02-28T08:42:24.530Z"
   },
   {
    "duration": 20,
    "start_time": "2025-02-28T08:42:24.548Z"
   },
   {
    "duration": 27,
    "start_time": "2025-02-28T08:42:24.569Z"
   },
   {
    "duration": 6,
    "start_time": "2025-02-28T08:42:24.597Z"
   },
   {
    "duration": 3,
    "start_time": "2025-02-28T08:42:24.604Z"
   },
   {
    "duration": 12,
    "start_time": "2025-02-28T08:42:24.610Z"
   },
   {
    "duration": 183,
    "start_time": "2025-02-28T08:42:24.623Z"
   },
   {
    "duration": 5,
    "start_time": "2025-02-28T08:42:24.807Z"
   },
   {
    "duration": 30,
    "start_time": "2025-02-28T08:42:24.813Z"
   },
   {
    "duration": 7,
    "start_time": "2025-02-28T08:42:24.844Z"
   },
   {
    "duration": 35,
    "start_time": "2025-02-28T08:42:24.853Z"
   },
   {
    "duration": 32,
    "start_time": "2025-02-28T08:42:24.889Z"
   },
   {
    "duration": 175,
    "start_time": "2025-02-28T08:42:24.922Z"
   },
   {
    "duration": 22,
    "start_time": "2025-02-28T08:42:25.099Z"
   },
   {
    "duration": 20,
    "start_time": "2025-02-28T08:42:25.123Z"
   },
   {
    "duration": 0,
    "start_time": "2025-02-28T08:42:25.144Z"
   },
   {
    "duration": 0,
    "start_time": "2025-02-28T08:42:25.145Z"
   },
   {
    "duration": 0,
    "start_time": "2025-02-28T08:42:25.147Z"
   },
   {
    "duration": 0,
    "start_time": "2025-02-28T08:42:25.148Z"
   },
   {
    "duration": 0,
    "start_time": "2025-02-28T08:42:25.149Z"
   },
   {
    "duration": 0,
    "start_time": "2025-02-28T08:42:25.150Z"
   },
   {
    "duration": 0,
    "start_time": "2025-02-28T08:42:25.151Z"
   },
   {
    "duration": 20,
    "start_time": "2025-02-28T08:43:56.275Z"
   },
   {
    "duration": 21,
    "start_time": "2025-02-28T08:44:07.143Z"
   },
   {
    "duration": 15,
    "start_time": "2025-02-28T08:46:32.446Z"
   },
   {
    "duration": 65,
    "start_time": "2025-02-28T08:47:55.622Z"
   },
   {
    "duration": 15,
    "start_time": "2025-02-28T08:47:55.689Z"
   },
   {
    "duration": 16,
    "start_time": "2025-02-28T08:47:55.709Z"
   },
   {
    "duration": 11,
    "start_time": "2025-02-28T08:47:55.726Z"
   },
   {
    "duration": 38,
    "start_time": "2025-02-28T08:47:55.739Z"
   },
   {
    "duration": 4,
    "start_time": "2025-02-28T08:47:55.779Z"
   },
   {
    "duration": 32,
    "start_time": "2025-02-28T08:47:55.784Z"
   },
   {
    "duration": 7,
    "start_time": "2025-02-28T08:47:55.817Z"
   },
   {
    "duration": 21,
    "start_time": "2025-02-28T08:47:55.825Z"
   },
   {
    "duration": 6,
    "start_time": "2025-02-28T08:47:55.848Z"
   },
   {
    "duration": 42,
    "start_time": "2025-02-28T08:47:55.856Z"
   },
   {
    "duration": 17,
    "start_time": "2025-02-28T08:47:55.900Z"
   },
   {
    "duration": 4,
    "start_time": "2025-02-28T08:47:55.918Z"
   },
   {
    "duration": 11,
    "start_time": "2025-02-28T08:47:55.926Z"
   },
   {
    "duration": 19,
    "start_time": "2025-02-28T08:47:55.939Z"
   },
   {
    "duration": 51,
    "start_time": "2025-02-28T08:47:55.959Z"
   },
   {
    "duration": 4,
    "start_time": "2025-02-28T08:47:56.012Z"
   },
   {
    "duration": 25,
    "start_time": "2025-02-28T08:47:56.018Z"
   },
   {
    "duration": 16,
    "start_time": "2025-02-28T08:47:56.045Z"
   },
   {
    "duration": 4,
    "start_time": "2025-02-28T08:47:56.063Z"
   },
   {
    "duration": 17,
    "start_time": "2025-02-28T08:47:56.069Z"
   },
   {
    "duration": 182,
    "start_time": "2025-02-28T08:47:56.088Z"
   },
   {
    "duration": 6,
    "start_time": "2025-02-28T08:47:56.272Z"
   },
   {
    "duration": 45,
    "start_time": "2025-02-28T08:47:56.279Z"
   },
   {
    "duration": 8,
    "start_time": "2025-02-28T08:47:56.325Z"
   },
   {
    "duration": 41,
    "start_time": "2025-02-28T08:47:56.334Z"
   },
   {
    "duration": 26,
    "start_time": "2025-02-28T08:47:56.377Z"
   },
   {
    "duration": 170,
    "start_time": "2025-02-28T08:47:56.405Z"
   },
   {
    "duration": 21,
    "start_time": "2025-02-28T08:47:56.576Z"
   },
   {
    "duration": 15,
    "start_time": "2025-02-28T08:47:56.610Z"
   },
   {
    "duration": 170,
    "start_time": "2025-02-28T08:47:56.626Z"
   },
   {
    "duration": 162,
    "start_time": "2025-02-28T08:47:56.798Z"
   },
   {
    "duration": 17,
    "start_time": "2025-02-28T08:47:56.962Z"
   },
   {
    "duration": 176,
    "start_time": "2025-02-28T08:47:56.981Z"
   },
   {
    "duration": 20,
    "start_time": "2025-02-28T08:47:57.158Z"
   },
   {
    "duration": 9,
    "start_time": "2025-02-28T08:49:55.693Z"
   },
   {
    "duration": 14,
    "start_time": "2025-02-28T08:50:04.941Z"
   },
   {
    "duration": 6,
    "start_time": "2025-02-28T09:06:37.727Z"
   },
   {
    "duration": 17,
    "start_time": "2025-02-28T09:06:43.128Z"
   },
   {
    "duration": 20,
    "start_time": "2025-02-28T09:06:57.415Z"
   },
   {
    "duration": 74,
    "start_time": "2025-02-28T09:07:08.870Z"
   },
   {
    "duration": 15,
    "start_time": "2025-02-28T09:07:08.945Z"
   },
   {
    "duration": 24,
    "start_time": "2025-02-28T09:07:08.962Z"
   },
   {
    "duration": 25,
    "start_time": "2025-02-28T09:07:08.988Z"
   },
   {
    "duration": 43,
    "start_time": "2025-02-28T09:07:09.015Z"
   },
   {
    "duration": 3,
    "start_time": "2025-02-28T09:07:09.060Z"
   },
   {
    "duration": 17,
    "start_time": "2025-02-28T09:07:09.064Z"
   },
   {
    "duration": 3,
    "start_time": "2025-02-28T09:07:09.083Z"
   },
   {
    "duration": 10,
    "start_time": "2025-02-28T09:07:09.088Z"
   },
   {
    "duration": 19,
    "start_time": "2025-02-28T09:07:09.100Z"
   },
   {
    "duration": 39,
    "start_time": "2025-02-28T09:07:09.121Z"
   },
   {
    "duration": 11,
    "start_time": "2025-02-28T09:07:09.162Z"
   },
   {
    "duration": 6,
    "start_time": "2025-02-28T09:07:09.174Z"
   },
   {
    "duration": 30,
    "start_time": "2025-02-28T09:07:09.183Z"
   },
   {
    "duration": 23,
    "start_time": "2025-02-28T09:07:09.215Z"
   },
   {
    "duration": 18,
    "start_time": "2025-02-28T09:07:09.239Z"
   },
   {
    "duration": 4,
    "start_time": "2025-02-28T09:07:09.259Z"
   },
   {
    "duration": 11,
    "start_time": "2025-02-28T09:07:09.264Z"
   },
   {
    "duration": 6,
    "start_time": "2025-02-28T09:07:09.277Z"
   },
   {
    "duration": 4,
    "start_time": "2025-02-28T09:07:09.284Z"
   },
   {
    "duration": 53,
    "start_time": "2025-02-28T09:07:09.310Z"
   },
   {
    "duration": 208,
    "start_time": "2025-02-28T09:07:09.365Z"
   },
   {
    "duration": 5,
    "start_time": "2025-02-28T09:07:09.575Z"
   },
   {
    "duration": 102,
    "start_time": "2025-02-28T09:07:09.582Z"
   },
   {
    "duration": 8,
    "start_time": "2025-02-28T09:07:09.686Z"
   },
   {
    "duration": 22,
    "start_time": "2025-02-28T09:07:09.695Z"
   },
   {
    "duration": 17,
    "start_time": "2025-02-28T09:07:09.718Z"
   },
   {
    "duration": 190,
    "start_time": "2025-02-28T09:07:09.737Z"
   },
   {
    "duration": 20,
    "start_time": "2025-02-28T09:07:09.928Z"
   },
   {
    "duration": 14,
    "start_time": "2025-02-28T09:07:09.950Z"
   },
   {
    "duration": 13,
    "start_time": "2025-02-28T09:07:09.966Z"
   },
   {
    "duration": 0,
    "start_time": "2025-02-28T09:07:09.980Z"
   },
   {
    "duration": 0,
    "start_time": "2025-02-28T09:07:09.981Z"
   },
   {
    "duration": 0,
    "start_time": "2025-02-28T09:07:10.010Z"
   },
   {
    "duration": 0,
    "start_time": "2025-02-28T09:07:10.012Z"
   },
   {
    "duration": 0,
    "start_time": "2025-02-28T09:07:10.013Z"
   },
   {
    "duration": 17,
    "start_time": "2025-02-28T09:07:27.076Z"
   },
   {
    "duration": 13,
    "start_time": "2025-02-28T09:07:42.039Z"
   },
   {
    "duration": 13,
    "start_time": "2025-02-28T09:08:15.591Z"
   },
   {
    "duration": 13,
    "start_time": "2025-02-28T09:08:30.762Z"
   },
   {
    "duration": 10,
    "start_time": "2025-02-28T09:10:42.192Z"
   },
   {
    "duration": 11,
    "start_time": "2025-02-28T09:10:55.335Z"
   },
   {
    "duration": 13,
    "start_time": "2025-02-28T09:11:05.617Z"
   },
   {
    "duration": 5,
    "start_time": "2025-02-28T09:13:08.462Z"
   },
   {
    "duration": 15,
    "start_time": "2025-02-28T09:13:56.891Z"
   },
   {
    "duration": 17,
    "start_time": "2025-02-28T09:15:21.428Z"
   },
   {
    "duration": 15,
    "start_time": "2025-02-28T09:15:29.754Z"
   },
   {
    "duration": 15,
    "start_time": "2025-02-28T09:16:56.141Z"
   },
   {
    "duration": 16,
    "start_time": "2025-02-28T09:17:10.564Z"
   },
   {
    "duration": 103,
    "start_time": "2025-02-28T09:17:27.442Z"
   },
   {
    "duration": 3,
    "start_time": "2025-02-28T09:19:21.689Z"
   },
   {
    "duration": 12,
    "start_time": "2025-02-28T09:21:00.480Z"
   },
   {
    "duration": 13,
    "start_time": "2025-02-28T09:21:03.382Z"
   },
   {
    "duration": 18,
    "start_time": "2025-02-28T09:21:14.813Z"
   },
   {
    "duration": 69,
    "start_time": "2025-02-28T09:22:05.429Z"
   },
   {
    "duration": 15,
    "start_time": "2025-02-28T09:22:05.500Z"
   },
   {
    "duration": 127,
    "start_time": "2025-02-28T09:22:05.516Z"
   },
   {
    "duration": 117,
    "start_time": "2025-02-28T09:22:05.645Z"
   },
   {
    "duration": 58,
    "start_time": "2025-02-28T09:22:05.764Z"
   },
   {
    "duration": 3,
    "start_time": "2025-02-28T09:22:05.824Z"
   },
   {
    "duration": 30,
    "start_time": "2025-02-28T09:22:05.828Z"
   },
   {
    "duration": 21,
    "start_time": "2025-02-28T09:22:05.860Z"
   },
   {
    "duration": 9,
    "start_time": "2025-02-28T09:22:05.882Z"
   },
   {
    "duration": 18,
    "start_time": "2025-02-28T09:22:05.892Z"
   },
   {
    "duration": 37,
    "start_time": "2025-02-28T09:22:05.911Z"
   },
   {
    "duration": 10,
    "start_time": "2025-02-28T09:22:05.950Z"
   },
   {
    "duration": 12,
    "start_time": "2025-02-28T09:22:05.961Z"
   },
   {
    "duration": 18,
    "start_time": "2025-02-28T09:22:05.975Z"
   },
   {
    "duration": 25,
    "start_time": "2025-02-28T09:22:05.995Z"
   },
   {
    "duration": 30,
    "start_time": "2025-02-28T09:22:06.022Z"
   },
   {
    "duration": 10,
    "start_time": "2025-02-28T09:22:06.054Z"
   },
   {
    "duration": 24,
    "start_time": "2025-02-28T09:22:06.065Z"
   },
   {
    "duration": 21,
    "start_time": "2025-02-28T09:22:06.091Z"
   },
   {
    "duration": 22,
    "start_time": "2025-02-28T09:22:06.113Z"
   },
   {
    "duration": 34,
    "start_time": "2025-02-28T09:22:06.137Z"
   },
   {
    "duration": 191,
    "start_time": "2025-02-28T09:22:06.173Z"
   },
   {
    "duration": 4,
    "start_time": "2025-02-28T09:22:06.366Z"
   },
   {
    "duration": 53,
    "start_time": "2025-02-28T09:22:06.372Z"
   },
   {
    "duration": 25,
    "start_time": "2025-02-28T09:22:06.427Z"
   },
   {
    "duration": 18,
    "start_time": "2025-02-28T09:22:06.454Z"
   },
   {
    "duration": 95,
    "start_time": "2025-02-28T09:22:06.473Z"
   },
   {
    "duration": 184,
    "start_time": "2025-02-28T09:22:06.569Z"
   },
   {
    "duration": 20,
    "start_time": "2025-02-28T09:22:06.755Z"
   },
   {
    "duration": 37,
    "start_time": "2025-02-28T09:22:06.776Z"
   },
   {
    "duration": 89,
    "start_time": "2025-02-28T09:22:06.815Z"
   },
   {
    "duration": 231,
    "start_time": "2025-02-28T09:22:06.905Z"
   },
   {
    "duration": 162,
    "start_time": "2025-02-28T09:22:07.138Z"
   },
   {
    "duration": 17,
    "start_time": "2025-02-28T09:22:07.309Z"
   },
   {
    "duration": 223,
    "start_time": "2025-02-28T09:22:07.328Z"
   },
   {
    "duration": 20,
    "start_time": "2025-02-28T09:22:07.552Z"
   },
   {
    "duration": 14,
    "start_time": "2025-02-28T09:23:48.011Z"
   },
   {
    "duration": 68,
    "start_time": "2025-02-28T09:53:50.599Z"
   },
   {
    "duration": 16,
    "start_time": "2025-02-28T09:53:50.669Z"
   },
   {
    "duration": 15,
    "start_time": "2025-02-28T09:53:50.710Z"
   },
   {
    "duration": 28,
    "start_time": "2025-02-28T09:53:50.726Z"
   },
   {
    "duration": 86,
    "start_time": "2025-02-28T09:53:50.756Z"
   },
   {
    "duration": 4,
    "start_time": "2025-02-28T09:53:50.844Z"
   },
   {
    "duration": 20,
    "start_time": "2025-02-28T09:53:50.849Z"
   },
   {
    "duration": 5,
    "start_time": "2025-02-28T09:53:50.871Z"
   },
   {
    "duration": 17,
    "start_time": "2025-02-28T09:53:50.878Z"
   },
   {
    "duration": 22,
    "start_time": "2025-02-28T09:53:50.896Z"
   },
   {
    "duration": 40,
    "start_time": "2025-02-28T09:53:50.920Z"
   },
   {
    "duration": 15,
    "start_time": "2025-02-28T09:53:50.961Z"
   },
   {
    "duration": 35,
    "start_time": "2025-02-28T09:53:50.978Z"
   },
   {
    "duration": 22,
    "start_time": "2025-02-28T09:53:51.016Z"
   },
   {
    "duration": 26,
    "start_time": "2025-02-28T09:53:51.040Z"
   },
   {
    "duration": 19,
    "start_time": "2025-02-28T09:53:51.068Z"
   },
   {
    "duration": 3,
    "start_time": "2025-02-28T09:53:51.089Z"
   },
   {
    "duration": 24,
    "start_time": "2025-02-28T09:53:51.093Z"
   },
   {
    "duration": 18,
    "start_time": "2025-02-28T09:53:51.119Z"
   },
   {
    "duration": 7,
    "start_time": "2025-02-28T09:53:51.138Z"
   },
   {
    "duration": 12,
    "start_time": "2025-02-28T09:53:51.147Z"
   },
   {
    "duration": 174,
    "start_time": "2025-02-28T09:53:51.160Z"
   },
   {
    "duration": 4,
    "start_time": "2025-02-28T09:53:51.336Z"
   },
   {
    "duration": 42,
    "start_time": "2025-02-28T09:53:51.342Z"
   },
   {
    "duration": 8,
    "start_time": "2025-02-28T09:53:51.386Z"
   },
   {
    "duration": 109,
    "start_time": "2025-02-28T09:53:51.395Z"
   },
   {
    "duration": 36,
    "start_time": "2025-02-28T09:53:51.506Z"
   },
   {
    "duration": 170,
    "start_time": "2025-02-28T09:53:51.544Z"
   },
   {
    "duration": 21,
    "start_time": "2025-02-28T09:53:51.715Z"
   },
   {
    "duration": 16,
    "start_time": "2025-02-28T09:53:51.737Z"
   },
   {
    "duration": 13,
    "start_time": "2025-02-28T09:53:51.755Z"
   },
   {
    "duration": 191,
    "start_time": "2025-02-28T09:53:51.769Z"
   },
   {
    "duration": 156,
    "start_time": "2025-02-28T09:53:51.962Z"
   },
   {
    "duration": 18,
    "start_time": "2025-02-28T09:53:52.120Z"
   },
   {
    "duration": 208,
    "start_time": "2025-02-28T09:53:52.139Z"
   },
   {
    "duration": 20,
    "start_time": "2025-02-28T09:53:52.349Z"
   },
   {
    "duration": 1395,
    "start_time": "2025-02-28T15:16:31.726Z"
   },
   {
    "duration": 19,
    "start_time": "2025-02-28T15:16:33.122Z"
   },
   {
    "duration": 15,
    "start_time": "2025-02-28T15:16:33.142Z"
   },
   {
    "duration": 109,
    "start_time": "2025-02-28T15:16:33.158Z"
   },
   {
    "duration": 58,
    "start_time": "2025-02-28T15:16:33.269Z"
   },
   {
    "duration": 4,
    "start_time": "2025-02-28T15:16:33.328Z"
   },
   {
    "duration": 16,
    "start_time": "2025-02-28T15:16:33.333Z"
   },
   {
    "duration": 18,
    "start_time": "2025-02-28T15:16:33.351Z"
   },
   {
    "duration": 26,
    "start_time": "2025-02-28T15:16:33.371Z"
   },
   {
    "duration": 12,
    "start_time": "2025-02-28T15:16:33.399Z"
   },
   {
    "duration": 51,
    "start_time": "2025-02-28T15:16:33.412Z"
   },
   {
    "duration": 18,
    "start_time": "2025-02-28T15:16:33.465Z"
   },
   {
    "duration": 19,
    "start_time": "2025-02-28T15:16:33.484Z"
   },
   {
    "duration": 54,
    "start_time": "2025-02-28T15:16:33.504Z"
   },
   {
    "duration": 78,
    "start_time": "2025-02-28T15:16:33.560Z"
   },
   {
    "duration": 34,
    "start_time": "2025-02-28T15:16:33.640Z"
   },
   {
    "duration": 3,
    "start_time": "2025-02-28T15:16:33.676Z"
   },
   {
    "duration": 31,
    "start_time": "2025-02-28T15:16:33.681Z"
   },
   {
    "duration": 21,
    "start_time": "2025-02-28T15:16:33.714Z"
   },
   {
    "duration": 157,
    "start_time": "2025-02-28T15:16:33.737Z"
   },
   {
    "duration": 17,
    "start_time": "2025-02-28T15:16:33.896Z"
   },
   {
    "duration": 196,
    "start_time": "2025-02-28T15:16:33.915Z"
   },
   {
    "duration": 4,
    "start_time": "2025-02-28T15:16:34.113Z"
   },
   {
    "duration": 42,
    "start_time": "2025-02-28T15:16:34.118Z"
   },
   {
    "duration": 8,
    "start_time": "2025-02-28T15:16:34.162Z"
   },
   {
    "duration": 47,
    "start_time": "2025-02-28T15:16:34.172Z"
   },
   {
    "duration": 23,
    "start_time": "2025-02-28T15:16:34.221Z"
   },
   {
    "duration": 182,
    "start_time": "2025-02-28T15:16:34.247Z"
   },
   {
    "duration": 28,
    "start_time": "2025-02-28T15:16:34.431Z"
   },
   {
    "duration": 17,
    "start_time": "2025-02-28T15:16:34.461Z"
   },
   {
    "duration": 78,
    "start_time": "2025-02-28T15:16:34.480Z"
   },
   {
    "duration": 503,
    "start_time": "2025-02-28T15:16:34.559Z"
   },
   {
    "duration": 310,
    "start_time": "2025-02-28T15:16:35.063Z"
   },
   {
    "duration": 17,
    "start_time": "2025-02-28T15:16:35.374Z"
   },
   {
    "duration": 261,
    "start_time": "2025-02-28T15:16:35.448Z"
   },
   {
    "duration": 18,
    "start_time": "2025-02-28T15:16:35.710Z"
   }
  ],
  "celltoolbar": "Edit Metadata",
  "colab": {
   "name": "dpp_template_part2.ipynb",
   "provenance": []
  },
  "kernelspec": {
   "display_name": "Python 3 (ipykernel)",
   "language": "python",
   "name": "python3"
  },
  "language_info": {
   "codemirror_mode": {
    "name": "ipython",
    "version": 3
   },
   "file_extension": ".py",
   "mimetype": "text/x-python",
   "name": "python",
   "nbconvert_exporter": "python",
   "pygments_lexer": "ipython3",
   "version": "3.9.21"
  },
  "toc": {
   "base_numbering": 1,
   "nav_menu": {},
   "number_sections": true,
   "sideBar": true,
   "skip_h1_title": true,
   "title_cell": "Table of Contents",
   "title_sidebar": "Contents",
   "toc_cell": false,
   "toc_position": {},
   "toc_section_display": true,
   "toc_window_display": true
  }
 },
 "nbformat": 4,
 "nbformat_minor": 5
}
